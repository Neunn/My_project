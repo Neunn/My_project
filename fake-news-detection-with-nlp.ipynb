{
 "cells": [
  {
   "cell_type": "markdown",
   "id": "468d1d1e",
   "metadata": {
    "papermill": {
     "duration": 0.00937,
     "end_time": "2023-03-29T04:50:45.792401",
     "exception": false,
     "start_time": "2023-03-29T04:50:45.783031",
     "status": "completed"
    },
    "tags": []
   },
   "source": [
    "# Import Data"
   ]
  },
  {
   "cell_type": "code",
   "execution_count": 1,
   "id": "3b14ab56",
   "metadata": {
    "execution": {
     "iopub.execute_input": "2023-03-29T04:50:45.811194Z",
     "iopub.status.busy": "2023-03-29T04:50:45.810684Z",
     "iopub.status.idle": "2023-03-29T04:50:45.822842Z",
     "shell.execute_reply": "2023-03-29T04:50:45.821484Z"
    },
    "papermill": {
     "duration": 0.024789,
     "end_time": "2023-03-29T04:50:45.825575",
     "exception": false,
     "start_time": "2023-03-29T04:50:45.800786",
     "status": "completed"
    },
    "tags": []
   },
   "outputs": [],
   "source": [
    "import pandas as pd\n",
    "import numpy as np"
   ]
  },
  {
   "cell_type": "code",
   "execution_count": 2,
   "id": "7cb20a04",
   "metadata": {
    "execution": {
     "iopub.execute_input": "2023-03-29T04:50:45.844275Z",
     "iopub.status.busy": "2023-03-29T04:50:45.843825Z",
     "iopub.status.idle": "2023-03-29T04:50:47.189545Z",
     "shell.execute_reply": "2023-03-29T04:50:47.188617Z"
    },
    "papermill": {
     "duration": 1.358517,
     "end_time": "2023-03-29T04:50:47.192322",
     "exception": false,
     "start_time": "2023-03-29T04:50:45.833805",
     "status": "completed"
    },
    "tags": []
   },
   "outputs": [],
   "source": [
    "True_df = pd.read_csv(\"/kaggle/input/fake-and-real-news-dataset/True.csv\")"
   ]
  },
  {
   "cell_type": "code",
   "execution_count": 3,
   "id": "f98499db",
   "metadata": {
    "execution": {
     "iopub.execute_input": "2023-03-29T04:50:47.211365Z",
     "iopub.status.busy": "2023-03-29T04:50:47.210757Z",
     "iopub.status.idle": "2023-03-29T04:50:47.232413Z",
     "shell.execute_reply": "2023-03-29T04:50:47.231206Z"
    },
    "papermill": {
     "duration": 0.03469,
     "end_time": "2023-03-29T04:50:47.235468",
     "exception": false,
     "start_time": "2023-03-29T04:50:47.200778",
     "status": "completed"
    },
    "tags": []
   },
   "outputs": [
    {
     "data": {
      "text/plain": [
       "title      0\n",
       "text       0\n",
       "subject    0\n",
       "date       0\n",
       "dtype: int64"
      ]
     },
     "execution_count": 3,
     "metadata": {},
     "output_type": "execute_result"
    }
   ],
   "source": [
    "True_df.isna().sum()"
   ]
  },
  {
   "cell_type": "code",
   "execution_count": 4,
   "id": "f83ffac2",
   "metadata": {
    "execution": {
     "iopub.execute_input": "2023-03-29T04:50:47.254336Z",
     "iopub.status.busy": "2023-03-29T04:50:47.253716Z",
     "iopub.status.idle": "2023-03-29T04:50:48.822946Z",
     "shell.execute_reply": "2023-03-29T04:50:48.821523Z"
    },
    "papermill": {
     "duration": 1.582336,
     "end_time": "2023-03-29T04:50:48.826136",
     "exception": false,
     "start_time": "2023-03-29T04:50:47.243800",
     "status": "completed"
    },
    "tags": []
   },
   "outputs": [],
   "source": [
    "Fake_df = pd.read_csv(\"/kaggle/input/fake-and-real-news-dataset/Fake.csv\")"
   ]
  },
  {
   "cell_type": "code",
   "execution_count": 5,
   "id": "ce047447",
   "metadata": {
    "execution": {
     "iopub.execute_input": "2023-03-29T04:50:48.847195Z",
     "iopub.status.busy": "2023-03-29T04:50:48.846762Z",
     "iopub.status.idle": "2023-03-29T04:50:48.864537Z",
     "shell.execute_reply": "2023-03-29T04:50:48.863161Z"
    },
    "papermill": {
     "duration": 0.031129,
     "end_time": "2023-03-29T04:50:48.867409",
     "exception": false,
     "start_time": "2023-03-29T04:50:48.836280",
     "status": "completed"
    },
    "tags": []
   },
   "outputs": [
    {
     "data": {
      "text/plain": [
       "title      0\n",
       "text       0\n",
       "subject    0\n",
       "date       0\n",
       "dtype: int64"
      ]
     },
     "execution_count": 5,
     "metadata": {},
     "output_type": "execute_result"
    }
   ],
   "source": [
    "Fake_df.isna().sum()"
   ]
  },
  {
   "cell_type": "markdown",
   "id": "526c63de",
   "metadata": {
    "papermill": {
     "duration": 0.008375,
     "end_time": "2023-03-29T04:50:48.885087",
     "exception": false,
     "start_time": "2023-03-29T04:50:48.876712",
     "status": "completed"
    },
    "tags": []
   },
   "source": [
    "## duplicated row check"
   ]
  },
  {
   "cell_type": "code",
   "execution_count": 6,
   "id": "ed79a941",
   "metadata": {
    "execution": {
     "iopub.execute_input": "2023-03-29T04:50:48.906422Z",
     "iopub.status.busy": "2023-03-29T04:50:48.905750Z",
     "iopub.status.idle": "2023-03-29T04:50:49.120351Z",
     "shell.execute_reply": "2023-03-29T04:50:49.119449Z"
    },
    "papermill": {
     "duration": 0.227595,
     "end_time": "2023-03-29T04:50:49.122852",
     "exception": false,
     "start_time": "2023-03-29T04:50:48.895257",
     "status": "completed"
    },
    "tags": []
   },
   "outputs": [
    {
     "data": {
      "text/plain": [
       "206"
      ]
     },
     "execution_count": 6,
     "metadata": {},
     "output_type": "execute_result"
    }
   ],
   "source": [
    "True_df.duplicated().sum()"
   ]
  },
  {
   "cell_type": "code",
   "execution_count": 7,
   "id": "465d8878",
   "metadata": {
    "execution": {
     "iopub.execute_input": "2023-03-29T04:50:49.143776Z",
     "iopub.status.busy": "2023-03-29T04:50:49.143345Z",
     "iopub.status.idle": "2023-03-29T04:50:49.299155Z",
     "shell.execute_reply": "2023-03-29T04:50:49.298084Z"
    },
    "papermill": {
     "duration": 0.170401,
     "end_time": "2023-03-29T04:50:49.302596",
     "exception": false,
     "start_time": "2023-03-29T04:50:49.132195",
     "status": "completed"
    },
    "tags": []
   },
   "outputs": [
    {
     "data": {
      "text/plain": [
       "3"
      ]
     },
     "execution_count": 7,
     "metadata": {},
     "output_type": "execute_result"
    }
   ],
   "source": [
    "Fake_df.duplicated().sum()"
   ]
  },
  {
   "cell_type": "code",
   "execution_count": 8,
   "id": "86672642",
   "metadata": {
    "execution": {
     "iopub.execute_input": "2023-03-29T04:50:49.323344Z",
     "iopub.status.busy": "2023-03-29T04:50:49.322856Z",
     "iopub.status.idle": "2023-03-29T04:50:49.629241Z",
     "shell.execute_reply": "2023-03-29T04:50:49.627774Z"
    },
    "papermill": {
     "duration": 0.320806,
     "end_time": "2023-03-29T04:50:49.632726",
     "exception": false,
     "start_time": "2023-03-29T04:50:49.311920",
     "status": "completed"
    },
    "tags": []
   },
   "outputs": [],
   "source": [
    "True_df.drop_duplicates(inplace = True)\n",
    "Fake_df.drop_duplicates(inplace = True)"
   ]
  },
  {
   "cell_type": "markdown",
   "id": "c2ba9cfb",
   "metadata": {
    "papermill": {
     "duration": 0.008899,
     "end_time": "2023-03-29T04:50:49.651045",
     "exception": false,
     "start_time": "2023-03-29T04:50:49.642146",
     "status": "completed"
    },
    "tags": []
   },
   "source": [
    "# combined dataset"
   ]
  },
  {
   "cell_type": "code",
   "execution_count": 9,
   "id": "ecb1ebc4",
   "metadata": {
    "execution": {
     "iopub.execute_input": "2023-03-29T04:50:49.671593Z",
     "iopub.status.busy": "2023-03-29T04:50:49.671142Z",
     "iopub.status.idle": "2023-03-29T04:50:49.704785Z",
     "shell.execute_reply": "2023-03-29T04:50:49.703272Z"
    },
    "papermill": {
     "duration": 0.047794,
     "end_time": "2023-03-29T04:50:49.708030",
     "exception": false,
     "start_time": "2023-03-29T04:50:49.660236",
     "status": "completed"
    },
    "tags": []
   },
   "outputs": [
    {
     "data": {
      "text/html": [
       "<div>\n",
       "<style scoped>\n",
       "    .dataframe tbody tr th:only-of-type {\n",
       "        vertical-align: middle;\n",
       "    }\n",
       "\n",
       "    .dataframe tbody tr th {\n",
       "        vertical-align: top;\n",
       "    }\n",
       "\n",
       "    .dataframe thead th {\n",
       "        text-align: right;\n",
       "    }\n",
       "</style>\n",
       "<table border=\"1\" class=\"dataframe\">\n",
       "  <thead>\n",
       "    <tr style=\"text-align: right;\">\n",
       "      <th></th>\n",
       "      <th>title</th>\n",
       "      <th>text</th>\n",
       "      <th>subject</th>\n",
       "      <th>date</th>\n",
       "    </tr>\n",
       "  </thead>\n",
       "  <tbody>\n",
       "    <tr>\n",
       "      <th>0</th>\n",
       "      <td>As U.S. budget fight looms, Republicans flip t...</td>\n",
       "      <td>WASHINGTON (Reuters) - The head of a conservat...</td>\n",
       "      <td>politicsNews</td>\n",
       "      <td>December 31, 2017</td>\n",
       "    </tr>\n",
       "    <tr>\n",
       "      <th>1</th>\n",
       "      <td>U.S. military to accept transgender recruits o...</td>\n",
       "      <td>WASHINGTON (Reuters) - Transgender people will...</td>\n",
       "      <td>politicsNews</td>\n",
       "      <td>December 29, 2017</td>\n",
       "    </tr>\n",
       "    <tr>\n",
       "      <th>2</th>\n",
       "      <td>Senior U.S. Republican senator: 'Let Mr. Muell...</td>\n",
       "      <td>WASHINGTON (Reuters) - The special counsel inv...</td>\n",
       "      <td>politicsNews</td>\n",
       "      <td>December 31, 2017</td>\n",
       "    </tr>\n",
       "    <tr>\n",
       "      <th>3</th>\n",
       "      <td>FBI Russia probe helped by Australian diplomat...</td>\n",
       "      <td>WASHINGTON (Reuters) - Trump campaign adviser ...</td>\n",
       "      <td>politicsNews</td>\n",
       "      <td>December 30, 2017</td>\n",
       "    </tr>\n",
       "    <tr>\n",
       "      <th>4</th>\n",
       "      <td>Trump wants Postal Service to charge 'much mor...</td>\n",
       "      <td>SEATTLE/WASHINGTON (Reuters) - President Donal...</td>\n",
       "      <td>politicsNews</td>\n",
       "      <td>December 29, 2017</td>\n",
       "    </tr>\n",
       "  </tbody>\n",
       "</table>\n",
       "</div>"
      ],
      "text/plain": [
       "                                               title  \\\n",
       "0  As U.S. budget fight looms, Republicans flip t...   \n",
       "1  U.S. military to accept transgender recruits o...   \n",
       "2  Senior U.S. Republican senator: 'Let Mr. Muell...   \n",
       "3  FBI Russia probe helped by Australian diplomat...   \n",
       "4  Trump wants Postal Service to charge 'much mor...   \n",
       "\n",
       "                                                text       subject  \\\n",
       "0  WASHINGTON (Reuters) - The head of a conservat...  politicsNews   \n",
       "1  WASHINGTON (Reuters) - Transgender people will...  politicsNews   \n",
       "2  WASHINGTON (Reuters) - The special counsel inv...  politicsNews   \n",
       "3  WASHINGTON (Reuters) - Trump campaign adviser ...  politicsNews   \n",
       "4  SEATTLE/WASHINGTON (Reuters) - President Donal...  politicsNews   \n",
       "\n",
       "                 date  \n",
       "0  December 31, 2017   \n",
       "1  December 29, 2017   \n",
       "2  December 31, 2017   \n",
       "3  December 30, 2017   \n",
       "4  December 29, 2017   "
      ]
     },
     "metadata": {},
     "output_type": "display_data"
    },
    {
     "data": {
      "text/html": [
       "<div>\n",
       "<style scoped>\n",
       "    .dataframe tbody tr th:only-of-type {\n",
       "        vertical-align: middle;\n",
       "    }\n",
       "\n",
       "    .dataframe tbody tr th {\n",
       "        vertical-align: top;\n",
       "    }\n",
       "\n",
       "    .dataframe thead th {\n",
       "        text-align: right;\n",
       "    }\n",
       "</style>\n",
       "<table border=\"1\" class=\"dataframe\">\n",
       "  <thead>\n",
       "    <tr style=\"text-align: right;\">\n",
       "      <th></th>\n",
       "      <th>title</th>\n",
       "      <th>text</th>\n",
       "      <th>subject</th>\n",
       "      <th>date</th>\n",
       "    </tr>\n",
       "  </thead>\n",
       "  <tbody>\n",
       "    <tr>\n",
       "      <th>23476</th>\n",
       "      <td>McPain: John McCain Furious That Iran Treated ...</td>\n",
       "      <td>21st Century Wire says As 21WIRE reported earl...</td>\n",
       "      <td>Middle-east</td>\n",
       "      <td>January 16, 2016</td>\n",
       "    </tr>\n",
       "    <tr>\n",
       "      <th>23477</th>\n",
       "      <td>JUSTICE? Yahoo Settles E-mail Privacy Class-ac...</td>\n",
       "      <td>21st Century Wire says It s a familiar theme. ...</td>\n",
       "      <td>Middle-east</td>\n",
       "      <td>January 16, 2016</td>\n",
       "    </tr>\n",
       "    <tr>\n",
       "      <th>23478</th>\n",
       "      <td>Sunnistan: US and Allied ‘Safe Zone’ Plan to T...</td>\n",
       "      <td>Patrick Henningsen  21st Century WireRemember ...</td>\n",
       "      <td>Middle-east</td>\n",
       "      <td>January 15, 2016</td>\n",
       "    </tr>\n",
       "    <tr>\n",
       "      <th>23479</th>\n",
       "      <td>How to Blow $700 Million: Al Jazeera America F...</td>\n",
       "      <td>21st Century Wire says Al Jazeera America will...</td>\n",
       "      <td>Middle-east</td>\n",
       "      <td>January 14, 2016</td>\n",
       "    </tr>\n",
       "    <tr>\n",
       "      <th>23480</th>\n",
       "      <td>10 U.S. Navy Sailors Held by Iranian Military ...</td>\n",
       "      <td>21st Century Wire says As 21WIRE predicted in ...</td>\n",
       "      <td>Middle-east</td>\n",
       "      <td>January 12, 2016</td>\n",
       "    </tr>\n",
       "  </tbody>\n",
       "</table>\n",
       "</div>"
      ],
      "text/plain": [
       "                                                   title  \\\n",
       "23476  McPain: John McCain Furious That Iran Treated ...   \n",
       "23477  JUSTICE? Yahoo Settles E-mail Privacy Class-ac...   \n",
       "23478  Sunnistan: US and Allied ‘Safe Zone’ Plan to T...   \n",
       "23479  How to Blow $700 Million: Al Jazeera America F...   \n",
       "23480  10 U.S. Navy Sailors Held by Iranian Military ...   \n",
       "\n",
       "                                                    text      subject  \\\n",
       "23476  21st Century Wire says As 21WIRE reported earl...  Middle-east   \n",
       "23477  21st Century Wire says It s a familiar theme. ...  Middle-east   \n",
       "23478  Patrick Henningsen  21st Century WireRemember ...  Middle-east   \n",
       "23479  21st Century Wire says Al Jazeera America will...  Middle-east   \n",
       "23480  21st Century Wire says As 21WIRE predicted in ...  Middle-east   \n",
       "\n",
       "                   date  \n",
       "23476  January 16, 2016  \n",
       "23477  January 16, 2016  \n",
       "23478  January 15, 2016  \n",
       "23479  January 14, 2016  \n",
       "23480  January 12, 2016  "
      ]
     },
     "metadata": {},
     "output_type": "display_data"
    }
   ],
   "source": [
    "display(True_df.head())\n",
    "display(Fake_df.tail())"
   ]
  },
  {
   "cell_type": "code",
   "execution_count": 10,
   "id": "3947c41e",
   "metadata": {
    "execution": {
     "iopub.execute_input": "2023-03-29T04:50:49.731189Z",
     "iopub.status.busy": "2023-03-29T04:50:49.730795Z",
     "iopub.status.idle": "2023-03-29T04:50:49.737674Z",
     "shell.execute_reply": "2023-03-29T04:50:49.736745Z"
    },
    "papermill": {
     "duration": 0.021732,
     "end_time": "2023-03-29T04:50:49.740235",
     "exception": false,
     "start_time": "2023-03-29T04:50:49.718503",
     "status": "completed"
    },
    "tags": []
   },
   "outputs": [],
   "source": [
    "True_df[\"Fake\"] = 0\n",
    "Fake_df[\"Fake\"] = 1"
   ]
  },
  {
   "cell_type": "code",
   "execution_count": 11,
   "id": "25a00df3",
   "metadata": {
    "execution": {
     "iopub.execute_input": "2023-03-29T04:50:49.762323Z",
     "iopub.status.busy": "2023-03-29T04:50:49.761927Z",
     "iopub.status.idle": "2023-03-29T04:50:49.784730Z",
     "shell.execute_reply": "2023-03-29T04:50:49.782924Z"
    },
    "papermill": {
     "duration": 0.037504,
     "end_time": "2023-03-29T04:50:49.787864",
     "exception": false,
     "start_time": "2023-03-29T04:50:49.750360",
     "status": "completed"
    },
    "tags": []
   },
   "outputs": [
    {
     "data": {
      "text/html": [
       "<div>\n",
       "<style scoped>\n",
       "    .dataframe tbody tr th:only-of-type {\n",
       "        vertical-align: middle;\n",
       "    }\n",
       "\n",
       "    .dataframe tbody tr th {\n",
       "        vertical-align: top;\n",
       "    }\n",
       "\n",
       "    .dataframe thead th {\n",
       "        text-align: right;\n",
       "    }\n",
       "</style>\n",
       "<table border=\"1\" class=\"dataframe\">\n",
       "  <thead>\n",
       "    <tr style=\"text-align: right;\">\n",
       "      <th></th>\n",
       "      <th>title</th>\n",
       "      <th>text</th>\n",
       "      <th>subject</th>\n",
       "      <th>date</th>\n",
       "      <th>Fake</th>\n",
       "    </tr>\n",
       "  </thead>\n",
       "  <tbody>\n",
       "    <tr>\n",
       "      <th>0</th>\n",
       "      <td>As U.S. budget fight looms, Republicans flip t...</td>\n",
       "      <td>WASHINGTON (Reuters) - The head of a conservat...</td>\n",
       "      <td>politicsNews</td>\n",
       "      <td>December 31, 2017</td>\n",
       "      <td>0</td>\n",
       "    </tr>\n",
       "    <tr>\n",
       "      <th>1</th>\n",
       "      <td>U.S. military to accept transgender recruits o...</td>\n",
       "      <td>WASHINGTON (Reuters) - Transgender people will...</td>\n",
       "      <td>politicsNews</td>\n",
       "      <td>December 29, 2017</td>\n",
       "      <td>0</td>\n",
       "    </tr>\n",
       "    <tr>\n",
       "      <th>2</th>\n",
       "      <td>Senior U.S. Republican senator: 'Let Mr. Muell...</td>\n",
       "      <td>WASHINGTON (Reuters) - The special counsel inv...</td>\n",
       "      <td>politicsNews</td>\n",
       "      <td>December 31, 2017</td>\n",
       "      <td>0</td>\n",
       "    </tr>\n",
       "    <tr>\n",
       "      <th>3</th>\n",
       "      <td>FBI Russia probe helped by Australian diplomat...</td>\n",
       "      <td>WASHINGTON (Reuters) - Trump campaign adviser ...</td>\n",
       "      <td>politicsNews</td>\n",
       "      <td>December 30, 2017</td>\n",
       "      <td>0</td>\n",
       "    </tr>\n",
       "    <tr>\n",
       "      <th>4</th>\n",
       "      <td>Trump wants Postal Service to charge 'much mor...</td>\n",
       "      <td>SEATTLE/WASHINGTON (Reuters) - President Donal...</td>\n",
       "      <td>politicsNews</td>\n",
       "      <td>December 29, 2017</td>\n",
       "      <td>0</td>\n",
       "    </tr>\n",
       "  </tbody>\n",
       "</table>\n",
       "</div>"
      ],
      "text/plain": [
       "                                               title  \\\n",
       "0  As U.S. budget fight looms, Republicans flip t...   \n",
       "1  U.S. military to accept transgender recruits o...   \n",
       "2  Senior U.S. Republican senator: 'Let Mr. Muell...   \n",
       "3  FBI Russia probe helped by Australian diplomat...   \n",
       "4  Trump wants Postal Service to charge 'much mor...   \n",
       "\n",
       "                                                text       subject  \\\n",
       "0  WASHINGTON (Reuters) - The head of a conservat...  politicsNews   \n",
       "1  WASHINGTON (Reuters) - Transgender people will...  politicsNews   \n",
       "2  WASHINGTON (Reuters) - The special counsel inv...  politicsNews   \n",
       "3  WASHINGTON (Reuters) - Trump campaign adviser ...  politicsNews   \n",
       "4  SEATTLE/WASHINGTON (Reuters) - President Donal...  politicsNews   \n",
       "\n",
       "                 date  Fake  \n",
       "0  December 31, 2017      0  \n",
       "1  December 29, 2017      0  \n",
       "2  December 31, 2017      0  \n",
       "3  December 30, 2017      0  \n",
       "4  December 29, 2017      0  "
      ]
     },
     "metadata": {},
     "output_type": "display_data"
    },
    {
     "data": {
      "text/html": [
       "<div>\n",
       "<style scoped>\n",
       "    .dataframe tbody tr th:only-of-type {\n",
       "        vertical-align: middle;\n",
       "    }\n",
       "\n",
       "    .dataframe tbody tr th {\n",
       "        vertical-align: top;\n",
       "    }\n",
       "\n",
       "    .dataframe thead th {\n",
       "        text-align: right;\n",
       "    }\n",
       "</style>\n",
       "<table border=\"1\" class=\"dataframe\">\n",
       "  <thead>\n",
       "    <tr style=\"text-align: right;\">\n",
       "      <th></th>\n",
       "      <th>title</th>\n",
       "      <th>text</th>\n",
       "      <th>subject</th>\n",
       "      <th>date</th>\n",
       "      <th>Fake</th>\n",
       "    </tr>\n",
       "  </thead>\n",
       "  <tbody>\n",
       "    <tr>\n",
       "      <th>23476</th>\n",
       "      <td>McPain: John McCain Furious That Iran Treated ...</td>\n",
       "      <td>21st Century Wire says As 21WIRE reported earl...</td>\n",
       "      <td>Middle-east</td>\n",
       "      <td>January 16, 2016</td>\n",
       "      <td>1</td>\n",
       "    </tr>\n",
       "    <tr>\n",
       "      <th>23477</th>\n",
       "      <td>JUSTICE? Yahoo Settles E-mail Privacy Class-ac...</td>\n",
       "      <td>21st Century Wire says It s a familiar theme. ...</td>\n",
       "      <td>Middle-east</td>\n",
       "      <td>January 16, 2016</td>\n",
       "      <td>1</td>\n",
       "    </tr>\n",
       "    <tr>\n",
       "      <th>23478</th>\n",
       "      <td>Sunnistan: US and Allied ‘Safe Zone’ Plan to T...</td>\n",
       "      <td>Patrick Henningsen  21st Century WireRemember ...</td>\n",
       "      <td>Middle-east</td>\n",
       "      <td>January 15, 2016</td>\n",
       "      <td>1</td>\n",
       "    </tr>\n",
       "    <tr>\n",
       "      <th>23479</th>\n",
       "      <td>How to Blow $700 Million: Al Jazeera America F...</td>\n",
       "      <td>21st Century Wire says Al Jazeera America will...</td>\n",
       "      <td>Middle-east</td>\n",
       "      <td>January 14, 2016</td>\n",
       "      <td>1</td>\n",
       "    </tr>\n",
       "    <tr>\n",
       "      <th>23480</th>\n",
       "      <td>10 U.S. Navy Sailors Held by Iranian Military ...</td>\n",
       "      <td>21st Century Wire says As 21WIRE predicted in ...</td>\n",
       "      <td>Middle-east</td>\n",
       "      <td>January 12, 2016</td>\n",
       "      <td>1</td>\n",
       "    </tr>\n",
       "  </tbody>\n",
       "</table>\n",
       "</div>"
      ],
      "text/plain": [
       "                                                   title  \\\n",
       "23476  McPain: John McCain Furious That Iran Treated ...   \n",
       "23477  JUSTICE? Yahoo Settles E-mail Privacy Class-ac...   \n",
       "23478  Sunnistan: US and Allied ‘Safe Zone’ Plan to T...   \n",
       "23479  How to Blow $700 Million: Al Jazeera America F...   \n",
       "23480  10 U.S. Navy Sailors Held by Iranian Military ...   \n",
       "\n",
       "                                                    text      subject  \\\n",
       "23476  21st Century Wire says As 21WIRE reported earl...  Middle-east   \n",
       "23477  21st Century Wire says It s a familiar theme. ...  Middle-east   \n",
       "23478  Patrick Henningsen  21st Century WireRemember ...  Middle-east   \n",
       "23479  21st Century Wire says Al Jazeera America will...  Middle-east   \n",
       "23480  21st Century Wire says As 21WIRE predicted in ...  Middle-east   \n",
       "\n",
       "                   date  Fake  \n",
       "23476  January 16, 2016     1  \n",
       "23477  January 16, 2016     1  \n",
       "23478  January 15, 2016     1  \n",
       "23479  January 14, 2016     1  \n",
       "23480  January 12, 2016     1  "
      ]
     },
     "metadata": {},
     "output_type": "display_data"
    }
   ],
   "source": [
    "display(True_df.head())\n",
    "display(Fake_df.tail())"
   ]
  },
  {
   "cell_type": "code",
   "execution_count": 12,
   "id": "538f384f",
   "metadata": {
    "execution": {
     "iopub.execute_input": "2023-03-29T04:50:49.810675Z",
     "iopub.status.busy": "2023-03-29T04:50:49.810246Z",
     "iopub.status.idle": "2023-03-29T04:50:49.824234Z",
     "shell.execute_reply": "2023-03-29T04:50:49.822472Z"
    },
    "papermill": {
     "duration": 0.028641,
     "end_time": "2023-03-29T04:50:49.826986",
     "exception": false,
     "start_time": "2023-03-29T04:50:49.798345",
     "status": "completed"
    },
    "tags": []
   },
   "outputs": [],
   "source": [
    "df = pd.concat([True_df, Fake_df],axis = 0)\n",
    "df.reset_index(inplace = True, drop = True)"
   ]
  },
  {
   "cell_type": "code",
   "execution_count": 13,
   "id": "1c678348",
   "metadata": {
    "execution": {
     "iopub.execute_input": "2023-03-29T04:50:49.850612Z",
     "iopub.status.busy": "2023-03-29T04:50:49.850222Z",
     "iopub.status.idle": "2023-03-29T04:50:49.867642Z",
     "shell.execute_reply": "2023-03-29T04:50:49.866185Z"
    },
    "papermill": {
     "duration": 0.032542,
     "end_time": "2023-03-29T04:50:49.870621",
     "exception": false,
     "start_time": "2023-03-29T04:50:49.838079",
     "status": "completed"
    },
    "tags": []
   },
   "outputs": [
    {
     "data": {
      "text/html": [
       "<div>\n",
       "<style scoped>\n",
       "    .dataframe tbody tr th:only-of-type {\n",
       "        vertical-align: middle;\n",
       "    }\n",
       "\n",
       "    .dataframe tbody tr th {\n",
       "        vertical-align: top;\n",
       "    }\n",
       "\n",
       "    .dataframe thead th {\n",
       "        text-align: right;\n",
       "    }\n",
       "</style>\n",
       "<table border=\"1\" class=\"dataframe\">\n",
       "  <thead>\n",
       "    <tr style=\"text-align: right;\">\n",
       "      <th></th>\n",
       "      <th>title</th>\n",
       "      <th>text</th>\n",
       "      <th>subject</th>\n",
       "      <th>date</th>\n",
       "      <th>Fake</th>\n",
       "    </tr>\n",
       "  </thead>\n",
       "  <tbody>\n",
       "    <tr>\n",
       "      <th>0</th>\n",
       "      <td>As U.S. budget fight looms, Republicans flip t...</td>\n",
       "      <td>WASHINGTON (Reuters) - The head of a conservat...</td>\n",
       "      <td>politicsNews</td>\n",
       "      <td>December 31, 2017</td>\n",
       "      <td>0</td>\n",
       "    </tr>\n",
       "    <tr>\n",
       "      <th>1</th>\n",
       "      <td>U.S. military to accept transgender recruits o...</td>\n",
       "      <td>WASHINGTON (Reuters) - Transgender people will...</td>\n",
       "      <td>politicsNews</td>\n",
       "      <td>December 29, 2017</td>\n",
       "      <td>0</td>\n",
       "    </tr>\n",
       "    <tr>\n",
       "      <th>2</th>\n",
       "      <td>Senior U.S. Republican senator: 'Let Mr. Muell...</td>\n",
       "      <td>WASHINGTON (Reuters) - The special counsel inv...</td>\n",
       "      <td>politicsNews</td>\n",
       "      <td>December 31, 2017</td>\n",
       "      <td>0</td>\n",
       "    </tr>\n",
       "    <tr>\n",
       "      <th>3</th>\n",
       "      <td>FBI Russia probe helped by Australian diplomat...</td>\n",
       "      <td>WASHINGTON (Reuters) - Trump campaign adviser ...</td>\n",
       "      <td>politicsNews</td>\n",
       "      <td>December 30, 2017</td>\n",
       "      <td>0</td>\n",
       "    </tr>\n",
       "    <tr>\n",
       "      <th>4</th>\n",
       "      <td>Trump wants Postal Service to charge 'much mor...</td>\n",
       "      <td>SEATTLE/WASHINGTON (Reuters) - President Donal...</td>\n",
       "      <td>politicsNews</td>\n",
       "      <td>December 29, 2017</td>\n",
       "      <td>0</td>\n",
       "    </tr>\n",
       "    <tr>\n",
       "      <th>...</th>\n",
       "      <td>...</td>\n",
       "      <td>...</td>\n",
       "      <td>...</td>\n",
       "      <td>...</td>\n",
       "      <td>...</td>\n",
       "    </tr>\n",
       "    <tr>\n",
       "      <th>44684</th>\n",
       "      <td>McPain: John McCain Furious That Iran Treated ...</td>\n",
       "      <td>21st Century Wire says As 21WIRE reported earl...</td>\n",
       "      <td>Middle-east</td>\n",
       "      <td>January 16, 2016</td>\n",
       "      <td>1</td>\n",
       "    </tr>\n",
       "    <tr>\n",
       "      <th>44685</th>\n",
       "      <td>JUSTICE? Yahoo Settles E-mail Privacy Class-ac...</td>\n",
       "      <td>21st Century Wire says It s a familiar theme. ...</td>\n",
       "      <td>Middle-east</td>\n",
       "      <td>January 16, 2016</td>\n",
       "      <td>1</td>\n",
       "    </tr>\n",
       "    <tr>\n",
       "      <th>44686</th>\n",
       "      <td>Sunnistan: US and Allied ‘Safe Zone’ Plan to T...</td>\n",
       "      <td>Patrick Henningsen  21st Century WireRemember ...</td>\n",
       "      <td>Middle-east</td>\n",
       "      <td>January 15, 2016</td>\n",
       "      <td>1</td>\n",
       "    </tr>\n",
       "    <tr>\n",
       "      <th>44687</th>\n",
       "      <td>How to Blow $700 Million: Al Jazeera America F...</td>\n",
       "      <td>21st Century Wire says Al Jazeera America will...</td>\n",
       "      <td>Middle-east</td>\n",
       "      <td>January 14, 2016</td>\n",
       "      <td>1</td>\n",
       "    </tr>\n",
       "    <tr>\n",
       "      <th>44688</th>\n",
       "      <td>10 U.S. Navy Sailors Held by Iranian Military ...</td>\n",
       "      <td>21st Century Wire says As 21WIRE predicted in ...</td>\n",
       "      <td>Middle-east</td>\n",
       "      <td>January 12, 2016</td>\n",
       "      <td>1</td>\n",
       "    </tr>\n",
       "  </tbody>\n",
       "</table>\n",
       "<p>44689 rows × 5 columns</p>\n",
       "</div>"
      ],
      "text/plain": [
       "                                                   title  \\\n",
       "0      As U.S. budget fight looms, Republicans flip t...   \n",
       "1      U.S. military to accept transgender recruits o...   \n",
       "2      Senior U.S. Republican senator: 'Let Mr. Muell...   \n",
       "3      FBI Russia probe helped by Australian diplomat...   \n",
       "4      Trump wants Postal Service to charge 'much mor...   \n",
       "...                                                  ...   \n",
       "44684  McPain: John McCain Furious That Iran Treated ...   \n",
       "44685  JUSTICE? Yahoo Settles E-mail Privacy Class-ac...   \n",
       "44686  Sunnistan: US and Allied ‘Safe Zone’ Plan to T...   \n",
       "44687  How to Blow $700 Million: Al Jazeera America F...   \n",
       "44688  10 U.S. Navy Sailors Held by Iranian Military ...   \n",
       "\n",
       "                                                    text       subject  \\\n",
       "0      WASHINGTON (Reuters) - The head of a conservat...  politicsNews   \n",
       "1      WASHINGTON (Reuters) - Transgender people will...  politicsNews   \n",
       "2      WASHINGTON (Reuters) - The special counsel inv...  politicsNews   \n",
       "3      WASHINGTON (Reuters) - Trump campaign adviser ...  politicsNews   \n",
       "4      SEATTLE/WASHINGTON (Reuters) - President Donal...  politicsNews   \n",
       "...                                                  ...           ...   \n",
       "44684  21st Century Wire says As 21WIRE reported earl...   Middle-east   \n",
       "44685  21st Century Wire says It s a familiar theme. ...   Middle-east   \n",
       "44686  Patrick Henningsen  21st Century WireRemember ...   Middle-east   \n",
       "44687  21st Century Wire says Al Jazeera America will...   Middle-east   \n",
       "44688  21st Century Wire says As 21WIRE predicted in ...   Middle-east   \n",
       "\n",
       "                     date  Fake  \n",
       "0      December 31, 2017      0  \n",
       "1      December 29, 2017      0  \n",
       "2      December 31, 2017      0  \n",
       "3      December 30, 2017      0  \n",
       "4      December 29, 2017      0  \n",
       "...                   ...   ...  \n",
       "44684    January 16, 2016     1  \n",
       "44685    January 16, 2016     1  \n",
       "44686    January 15, 2016     1  \n",
       "44687    January 14, 2016     1  \n",
       "44688    January 12, 2016     1  \n",
       "\n",
       "[44689 rows x 5 columns]"
      ]
     },
     "metadata": {},
     "output_type": "display_data"
    }
   ],
   "source": [
    "display(df)"
   ]
  },
  {
   "cell_type": "code",
   "execution_count": 14,
   "id": "a24e5113",
   "metadata": {
    "execution": {
     "iopub.execute_input": "2023-03-29T04:50:49.896258Z",
     "iopub.status.busy": "2023-03-29T04:50:49.895798Z",
     "iopub.status.idle": "2023-03-29T04:50:49.904886Z",
     "shell.execute_reply": "2023-03-29T04:50:49.903893Z"
    },
    "papermill": {
     "duration": 0.024829,
     "end_time": "2023-03-29T04:50:49.907204",
     "exception": false,
     "start_time": "2023-03-29T04:50:49.882375",
     "status": "completed"
    },
    "tags": []
   },
   "outputs": [],
   "source": [
    "def plot_fake_news_by_subject(df):\n",
    "    import seaborn as sns\n",
    "    import matplotlib.pyplot as plt\n",
    "    \n",
    "    sns.set_style(\"white\")\n",
    "    plt.figure(figsize = (10, 5))\n",
    "    ax = sns.barplot(x = df.groupby(by = [\"subject\"])[[\"Fake\"]].count().index.values, \n",
    "                     y = df.groupby(by = [\"subject\"])[[\"Fake\"]].sum()[\"Fake\"].values,\n",
    "                     palette = \"RdYlGn\")\n",
    "    for i in ax.containers:\n",
    "        ax.bar_label(i)\n",
    "    plt.ylabel(\"count\")\n",
    "    plt.xticks(label = df.groupby(by = [\"subject\"])[[\"Fake\"]].count().index.values, rotation = 70)\n",
    "    plt.title(\"Count Fake News by Subject\")\n",
    "    sns.despine()"
   ]
  },
  {
   "cell_type": "code",
   "execution_count": 15,
   "id": "46f64840",
   "metadata": {
    "execution": {
     "iopub.execute_input": "2023-03-29T04:50:49.930901Z",
     "iopub.status.busy": "2023-03-29T04:50:49.930484Z",
     "iopub.status.idle": "2023-03-29T04:50:51.514240Z",
     "shell.execute_reply": "2023-03-29T04:50:51.512675Z"
    },
    "papermill": {
     "duration": 1.599784,
     "end_time": "2023-03-29T04:50:51.517555",
     "exception": false,
     "start_time": "2023-03-29T04:50:49.917771",
     "status": "completed"
    },
    "tags": []
   },
   "outputs": [
    {
     "data": {
      "image/png": "[encoded data removed]",
      "text/plain": [
       "<Figure size 1000x500 with 1 Axes>"
      ]
     },
     "metadata": {},
     "output_type": "display_data"
    }
   ],
   "source": [
    "plot_fake_news_by_subject(df)"
   ]
  },
  {
   "cell_type": "markdown",
   "id": "43ad078a",
   "metadata": {
    "papermill": {
     "duration": 0.01193,
     "end_time": "2023-03-29T04:50:51.541034",
     "exception": false,
     "start_time": "2023-03-29T04:50:51.529104",
     "status": "completed"
    },
    "tags": []
   },
   "source": [
    "# Clean text"
   ]
  },
  {
   "cell_type": "code",
   "execution_count": 16,
   "id": "c0729976",
   "metadata": {
    "execution": {
     "iopub.execute_input": "2023-03-29T04:50:51.566669Z",
     "iopub.status.busy": "2023-03-29T04:50:51.565842Z",
     "iopub.status.idle": "2023-03-29T04:50:51.576278Z",
     "shell.execute_reply": "2023-03-29T04:50:51.575168Z"
    },
    "papermill": {
     "duration": 0.026533,
     "end_time": "2023-03-29T04:50:51.579060",
     "exception": false,
     "start_time": "2023-03-29T04:50:51.552527",
     "status": "completed"
    },
    "tags": []
   },
   "outputs": [],
   "source": [
    "df_text = df.loc[:, [\"text\", \"Fake\"]]"
   ]
  },
  {
   "cell_type": "code",
   "execution_count": 17,
   "id": "5b356368",
   "metadata": {
    "execution": {
     "iopub.execute_input": "2023-03-29T04:50:51.606117Z",
     "iopub.status.busy": "2023-03-29T04:50:51.604554Z",
     "iopub.status.idle": "2023-03-29T04:50:51.633116Z",
     "shell.execute_reply": "2023-03-29T04:50:51.631805Z"
    },
    "papermill": {
     "duration": 0.045224,
     "end_time": "2023-03-29T04:50:51.635770",
     "exception": false,
     "start_time": "2023-03-29T04:50:51.590546",
     "status": "completed"
    },
    "tags": []
   },
   "outputs": [
    {
     "name": "stdout",
     "output_type": "stream",
     "text": [
      "<class 'pandas.core.frame.DataFrame'>\n",
      "RangeIndex: 44689 entries, 0 to 44688\n",
      "Data columns (total 2 columns):\n",
      " #   Column  Non-Null Count  Dtype \n",
      "---  ------  --------------  ----- \n",
      " 0   text    44689 non-null  object\n",
      " 1   Fake    44689 non-null  int64 \n",
      "dtypes: int64(1), object(1)\n",
      "memory usage: 698.4+ KB\n"
     ]
    }
   ],
   "source": [
    "df_text.info()"
   ]
  },
  {
   "cell_type": "code",
   "execution_count": 18,
   "id": "c8b188a9",
   "metadata": {
    "execution": {
     "iopub.execute_input": "2023-03-29T04:50:51.659830Z",
     "iopub.status.busy": "2023-03-29T04:50:51.659413Z",
     "iopub.status.idle": "2023-03-29T04:50:51.670681Z",
     "shell.execute_reply": "2023-03-29T04:50:51.669012Z"
    },
    "papermill": {
     "duration": 0.026361,
     "end_time": "2023-03-29T04:50:51.673175",
     "exception": false,
     "start_time": "2023-03-29T04:50:51.646814",
     "status": "completed"
    },
    "tags": []
   },
   "outputs": [
    {
     "data": {
      "text/html": [
       "<div>\n",
       "<style scoped>\n",
       "    .dataframe tbody tr th:only-of-type {\n",
       "        vertical-align: middle;\n",
       "    }\n",
       "\n",
       "    .dataframe tbody tr th {\n",
       "        vertical-align: top;\n",
       "    }\n",
       "\n",
       "    .dataframe thead th {\n",
       "        text-align: right;\n",
       "    }\n",
       "</style>\n",
       "<table border=\"1\" class=\"dataframe\">\n",
       "  <thead>\n",
       "    <tr style=\"text-align: right;\">\n",
       "      <th></th>\n",
       "      <th>text</th>\n",
       "      <th>Fake</th>\n",
       "    </tr>\n",
       "  </thead>\n",
       "  <tbody>\n",
       "    <tr>\n",
       "      <th>0</th>\n",
       "      <td>WASHINGTON (Reuters) - The head of a conservat...</td>\n",
       "      <td>0</td>\n",
       "    </tr>\n",
       "    <tr>\n",
       "      <th>1</th>\n",
       "      <td>WASHINGTON (Reuters) - Transgender people will...</td>\n",
       "      <td>0</td>\n",
       "    </tr>\n",
       "    <tr>\n",
       "      <th>2</th>\n",
       "      <td>WASHINGTON (Reuters) - The special counsel inv...</td>\n",
       "      <td>0</td>\n",
       "    </tr>\n",
       "    <tr>\n",
       "      <th>3</th>\n",
       "      <td>WASHINGTON (Reuters) - Trump campaign adviser ...</td>\n",
       "      <td>0</td>\n",
       "    </tr>\n",
       "    <tr>\n",
       "      <th>4</th>\n",
       "      <td>SEATTLE/WASHINGTON (Reuters) - President Donal...</td>\n",
       "      <td>0</td>\n",
       "    </tr>\n",
       "  </tbody>\n",
       "</table>\n",
       "</div>"
      ],
      "text/plain": [
       "                                                text  Fake\n",
       "0  WASHINGTON (Reuters) - The head of a conservat...     0\n",
       "1  WASHINGTON (Reuters) - Transgender people will...     0\n",
       "2  WASHINGTON (Reuters) - The special counsel inv...     0\n",
       "3  WASHINGTON (Reuters) - Trump campaign adviser ...     0\n",
       "4  SEATTLE/WASHINGTON (Reuters) - President Donal...     0"
      ]
     },
     "execution_count": 18,
     "metadata": {},
     "output_type": "execute_result"
    }
   ],
   "source": [
    "df_text.head()"
   ]
  },
  {
   "cell_type": "code",
   "execution_count": 19,
   "id": "3c1b6606",
   "metadata": {
    "execution": {
     "iopub.execute_input": "2023-03-29T04:50:51.697339Z",
     "iopub.status.busy": "2023-03-29T04:50:51.696951Z",
     "iopub.status.idle": "2023-03-29T04:50:51.706532Z",
     "shell.execute_reply": "2023-03-29T04:50:51.705075Z"
    },
    "papermill": {
     "duration": 0.024659,
     "end_time": "2023-03-29T04:50:51.708967",
     "exception": false,
     "start_time": "2023-03-29T04:50:51.684308",
     "status": "completed"
    },
    "tags": []
   },
   "outputs": [],
   "source": [
    "corpus = []\n",
    "def clean_text(df):\n",
    "    import re\n",
    "    import nltk \n",
    "    nltk.download(\"stopwords\")\n",
    "    from nltk.corpus import stopwords\n",
    "    from nltk.stem.porter import PorterStemmer\n",
    "    \n",
    "    for i in range(0, len(df_text)):\n",
    "        text = re.sub(\"[^a-zA-Z]\", \" \", df[\"text\"][i].strip())\n",
    "        text = text.lower()\n",
    "        text = text.split()\n",
    "        \n",
    "        ps = PorterStemmer()\n",
    "        all_stopwords = stopwords.words(\"english\")\n",
    "        all_stopwords.remove(\"not\")\n",
    "        \n",
    "        text = [ps.stem(i) for i in text if not i in set(all_stopwords)]\n",
    "        text = \" \".join(text)\n",
    "        corpus.append(text)"
   ]
  },
  {
   "cell_type": "code",
   "execution_count": 20,
   "id": "559fdcfe",
   "metadata": {
    "execution": {
     "iopub.execute_input": "2023-03-29T04:50:51.732937Z",
     "iopub.status.busy": "2023-03-29T04:50:51.732526Z",
     "iopub.status.idle": "2023-03-29T04:57:40.805356Z",
     "shell.execute_reply": "2023-03-29T04:57:40.803815Z"
    },
    "papermill": {
     "duration": 409.088717,
     "end_time": "2023-03-29T04:57:40.808829",
     "exception": false,
     "start_time": "2023-03-29T04:50:51.720112",
     "status": "completed"
    },
    "tags": []
   },
   "outputs": [
    {
     "name": "stdout",
     "output_type": "stream",
     "text": [
      "[nltk_data] Downloading package stopwords to /usr/share/nltk_data...\n",
      "[nltk_data]   Package stopwords is already up-to-date!\n"
     ]
    }
   ],
   "source": [
    "clean_text(df)"
   ]
  },
  {
   "cell_type": "code",
   "execution_count": 21,
   "id": "f4df657b",
   "metadata": {
    "execution": {
     "iopub.execute_input": "2023-03-29T04:57:40.839492Z",
     "iopub.status.busy": "2023-03-29T04:57:40.839062Z",
     "iopub.status.idle": "2023-03-29T04:57:49.940503Z",
     "shell.execute_reply": "2023-03-29T04:57:49.939051Z"
    },
    "papermill": {
     "duration": 9.120095,
     "end_time": "2023-03-29T04:57:49.943904",
     "exception": false,
     "start_time": "2023-03-29T04:57:40.823809",
     "status": "completed"
    },
    "tags": []
   },
   "outputs": [],
   "source": [
    "from sklearn.feature_extraction.text import CountVectorizer\n",
    "cv = CountVectorizer(max_features = 2000)\n",
    "x = cv.fit_transform(corpus).toarray()\n",
    "y = df[\"Fake\"].values"
   ]
  },
  {
   "cell_type": "markdown",
   "id": "26ca28db",
   "metadata": {
    "papermill": {
     "duration": 0.011118,
     "end_time": "2023-03-29T04:57:49.966925",
     "exception": false,
     "start_time": "2023-03-29T04:57:49.955807",
     "status": "completed"
    },
    "tags": []
   },
   "source": [
    "# GaussianNB Model"
   ]
  },
  {
   "cell_type": "code",
   "execution_count": 22,
   "id": "9a6907a5",
   "metadata": {
    "execution": {
     "iopub.execute_input": "2023-03-29T04:57:49.992855Z",
     "iopub.status.busy": "2023-03-29T04:57:49.992442Z",
     "iopub.status.idle": "2023-03-29T04:57:51.418626Z",
     "shell.execute_reply": "2023-03-29T04:57:51.417127Z"
    },
    "papermill": {
     "duration": 1.442641,
     "end_time": "2023-03-29T04:57:51.421690",
     "exception": false,
     "start_time": "2023-03-29T04:57:49.979049",
     "status": "completed"
    },
    "tags": []
   },
   "outputs": [
    {
     "data": {
      "text/plain": [
       "GaussianNB()"
      ]
     },
     "execution_count": 22,
     "metadata": {},
     "output_type": "execute_result"
    }
   ],
   "source": [
    "from sklearn.model_selection import train_test_split\n",
    "from sklearn.naive_bayes import GaussianNB\n",
    "x_train, x_test, y_train, y_test = train_test_split(x, y, random_state = 0, test_size = 0.25)\n",
    "model = GaussianNB()\n",
    "model.fit(x_train, y_train)"
   ]
  },
  {
   "cell_type": "code",
   "execution_count": 23,
   "id": "c23c1033",
   "metadata": {
    "execution": {
     "iopub.execute_input": "2023-03-29T04:57:51.447809Z",
     "iopub.status.busy": "2023-03-29T04:57:51.446859Z",
     "iopub.status.idle": "2023-03-29T04:57:51.781658Z",
     "shell.execute_reply": "2023-03-29T04:57:51.780180Z"
    },
    "papermill": {
     "duration": 0.351482,
     "end_time": "2023-03-29T04:57:51.784919",
     "exception": false,
     "start_time": "2023-03-29T04:57:51.433437",
     "status": "completed"
    },
    "tags": []
   },
   "outputs": [],
   "source": [
    "y_pred = model.predict(x_test)"
   ]
  },
  {
   "cell_type": "code",
   "execution_count": 24,
   "id": "2d92c49a",
   "metadata": {
    "execution": {
     "iopub.execute_input": "2023-03-29T04:57:51.811318Z",
     "iopub.status.busy": "2023-03-29T04:57:51.810841Z",
     "iopub.status.idle": "2023-03-29T04:57:51.821708Z",
     "shell.execute_reply": "2023-03-29T04:57:51.819929Z"
    },
    "papermill": {
     "duration": 0.028057,
     "end_time": "2023-03-29T04:57:51.824787",
     "exception": false,
     "start_time": "2023-03-29T04:57:51.796730",
     "status": "completed"
    },
    "tags": []
   },
   "outputs": [],
   "source": [
    "def confu_matrix_plot(y_test, y_pred):\n",
    "    import seaborn as sns\n",
    "    import matplotlib.pyplot as plt\n",
    "    from sklearn.metrics import confusion_matrix,accuracy_score\n",
    "    \n",
    "    conf = confusion_matrix(y_test, y_pred)\n",
    "    name_group = [\"True Positive\", \"False Positive\", \"False Negative\", \"True Negative\"]\n",
    "    percentage_group = [f\"{round(i * 100, 2)} %\" for i in conf.flatten()/np.sum(conf)]\n",
    "    labels = np.array([f\"{i}\\n{j}\\n{k}\" for i,j,k in zip(name_group, conf.flatten(), percentage_group)]).reshape(2, 2)\n",
    "    \n",
    "    print(f\"Acuuracy score : {round(accuracy_score(y_pred, y_test), 2)}\")\n",
    "    sns.set_style(\"white\")\n",
    "    sns.heatmap(conf, annot = labels, fmt = \"\", cmap = \"Blues\")\n",
    "    plt.xlabel(\"Predicted value\", size = 14)\n",
    "    plt.ylabel(\"Actual Value\", size = 14)\n",
    "    plt.title(\"Confusion Matrix\", size = 15, color = \"blue\")"
   ]
  },
  {
   "cell_type": "code",
   "execution_count": 25,
   "id": "6d7a235b",
   "metadata": {
    "execution": {
     "iopub.execute_input": "2023-03-29T04:57:51.850572Z",
     "iopub.status.busy": "2023-03-29T04:57:51.850122Z",
     "iopub.status.idle": "2023-03-29T04:57:52.183153Z",
     "shell.execute_reply": "2023-03-29T04:57:52.181901Z"
    },
    "papermill": {
     "duration": 0.348901,
     "end_time": "2023-03-29T04:57:52.185517",
     "exception": false,
     "start_time": "2023-03-29T04:57:51.836616",
     "status": "completed"
    },
    "tags": []
   },
   "outputs": [
    {
     "name": "stdout",
     "output_type": "stream",
     "text": [
      "Acuuracy score : 0.87\n"
     ]
    },
    {
     "data": {
      "image/png": "[encoded data removed]",
      "text/plain": [
       "<Figure size 640x480 with 2 Axes>"
      ]
     },
     "metadata": {},
     "output_type": "display_data"
    }
   ],
   "source": [
    "confu_matrix_plot(y_test, y_pred)"
   ]
  },
  {
   "cell_type": "code",
   "execution_count": 26,
   "id": "238c142d",
   "metadata": {
    "execution": {
     "iopub.execute_input": "2023-03-29T04:57:52.213669Z",
     "iopub.status.busy": "2023-03-29T04:57:52.212593Z",
     "iopub.status.idle": "2023-03-29T04:57:52.221041Z",
     "shell.execute_reply": "2023-03-29T04:57:52.219578Z"
    },
    "papermill": {
     "duration": 0.025989,
     "end_time": "2023-03-29T04:57:52.223972",
     "exception": false,
     "start_time": "2023-03-29T04:57:52.197983",
     "status": "completed"
    },
    "tags": []
   },
   "outputs": [
    {
     "data": {
      "text/plain": [
       "(33516, 2000)"
      ]
     },
     "execution_count": 26,
     "metadata": {},
     "output_type": "execute_result"
    }
   ],
   "source": [
    "x_train.shape"
   ]
  },
  {
   "cell_type": "markdown",
   "id": "84d30ef2",
   "metadata": {
    "papermill": {
     "duration": 0.012378,
     "end_time": "2023-03-29T04:57:52.249052",
     "exception": false,
     "start_time": "2023-03-29T04:57:52.236674",
     "status": "completed"
    },
    "tags": []
   },
   "source": [
    "# ANN Model"
   ]
  },
  {
   "cell_type": "code",
   "execution_count": 27,
   "id": "87eae374",
   "metadata": {
    "execution": {
     "iopub.execute_input": "2023-03-29T04:57:52.277571Z",
     "iopub.status.busy": "2023-03-29T04:57:52.276870Z",
     "iopub.status.idle": "2023-03-29T04:57:52.286326Z",
     "shell.execute_reply": "2023-03-29T04:57:52.285068Z"
    },
    "papermill": {
     "duration": 0.027488,
     "end_time": "2023-03-29T04:57:52.289273",
     "exception": false,
     "start_time": "2023-03-29T04:57:52.261785",
     "status": "completed"
    },
    "tags": []
   },
   "outputs": [],
   "source": [
    "def ANN_Model(x_train, x_test, y_train, y_test):\n",
    "    import tensorflow as tf\n",
    "    \n",
    "    model = tf.keras.models.Sequential()\n",
    "    \n",
    "    # Add First Layer (Input Layer)\n",
    "    model.add(tf.keras.layers.Dense(units = 200, activation = \"relu\"))\n",
    "    # Add Second Layers \n",
    "    model.add(tf.keras.layers.Dense(units = 100, activation = \"relu\"))\n",
    "    # Add Third Layers\n",
    "    model.add(tf.keras.layers.Dense(units = 50, activation = \"relu\"))\n",
    "    # Add Fourth Layers\n",
    "    model.add(tf.keras.layers.Dense(units = 25, activation = \"relu\"))\n",
    "    # Add output Layers\n",
    "    model.add(tf.keras.layers.Dense(units = 1, activation = \"sigmoid\"))\n",
    "    \n",
    "    # compile Layers\n",
    "    model.compile(optimizer = \"adam\", loss = \"binary_crossentropy\", metrics = [\"accuracy\"])\n",
    "    \n",
    "    # Train Model\n",
    "    model.fit(x_train, y_train, batch_size = 32, epochs = 10)\n",
    "    \n",
    "    y_pred_ANN = model.predict(x_test)\n",
    "    return y_pred_ANN"
   ]
  },
  {
   "cell_type": "code",
   "execution_count": 28,
   "id": "abc1071a",
   "metadata": {
    "execution": {
     "iopub.execute_input": "2023-03-29T04:57:52.317457Z",
     "iopub.status.busy": "2023-03-29T04:57:52.317032Z",
     "iopub.status.idle": "2023-03-29T04:59:21.566417Z",
     "shell.execute_reply": "2023-03-29T04:59:21.564516Z"
    },
    "papermill": {
     "duration": 89.267501,
     "end_time": "2023-03-29T04:59:21.569969",
     "exception": false,
     "start_time": "2023-03-29T04:57:52.302468",
     "status": "completed"
    },
    "tags": []
   },
   "outputs": [
    {
     "name": "stdout",
     "output_type": "stream",
     "text": [
      "Epoch 1/10\n",
      "1048/1048 [==============================] - 9s 7ms/step - loss: 0.0719 - accuracy: 0.9808\n",
      "Epoch 2/10\n",
      "1048/1048 [==============================] - 8s 7ms/step - loss: 0.0173 - accuracy: 0.9955\n",
      "Epoch 3/10\n",
      "1048/1048 [==============================] - 8s 7ms/step - loss: 0.0101 - accuracy: 0.9972\n",
      "Epoch 4/10\n",
      "1048/1048 [==============================] - 8s 7ms/step - loss: 0.0075 - accuracy: 0.9979\n",
      "Epoch 5/10\n",
      "1048/1048 [==============================] - 8s 7ms/step - loss: 0.0039 - accuracy: 0.9991\n",
      "Epoch 6/10\n",
      "1048/1048 [==============================] - 8s 7ms/step - loss: 0.0030 - accuracy: 0.9992\n",
      "Epoch 7/10\n",
      "1048/1048 [==============================] - 8s 7ms/step - loss: 0.0053 - accuracy: 0.9987\n",
      "Epoch 8/10\n",
      "1048/1048 [==============================] - 8s 7ms/step - loss: 0.0058 - accuracy: 0.9987\n",
      "Epoch 9/10\n",
      "1048/1048 [==============================] - 8s 7ms/step - loss: 0.0027 - accuracy: 0.9995\n",
      "Epoch 10/10\n",
      "1048/1048 [==============================] - 8s 7ms/step - loss: 0.0044 - accuracy: 0.9995\n",
      "350/350 [==============================] - 1s 3ms/step\n"
     ]
    }
   ],
   "source": [
    "y_pred_ANN = ANN_Model(x_train, x_test, y_train, y_test)"
   ]
  },
  {
   "cell_type": "code",
   "execution_count": 29,
   "id": "8f4b0629",
   "metadata": {
    "execution": {
     "iopub.execute_input": "2023-03-29T04:59:21.793669Z",
     "iopub.status.busy": "2023-03-29T04:59:21.793215Z",
     "iopub.status.idle": "2023-03-29T04:59:21.826355Z",
     "shell.execute_reply": "2023-03-29T04:59:21.823779Z"
    },
    "papermill": {
     "duration": 0.148899,
     "end_time": "2023-03-29T04:59:21.831162",
     "exception": false,
     "start_time": "2023-03-29T04:59:21.682263",
     "status": "completed"
    },
    "tags": []
   },
   "outputs": [],
   "source": [
    "y_pred_ANN = y_pred_ANN.flatten()\n",
    "for i,j in enumerate(y_pred_ANN):\n",
    "    if j > 0.5:\n",
    "        y_pred_ANN[i] = 1\n",
    "    else:\n",
    "        y_pred_ANN[i] = 0"
   ]
  },
  {
   "cell_type": "code",
   "execution_count": 30,
   "id": "df5ee7c5",
   "metadata": {
    "execution": {
     "iopub.execute_input": "2023-03-29T04:59:22.081915Z",
     "iopub.status.busy": "2023-03-29T04:59:22.081254Z",
     "iopub.status.idle": "2023-03-29T04:59:22.437531Z",
     "shell.execute_reply": "2023-03-29T04:59:22.435989Z"
    },
    "papermill": {
     "duration": 0.472539,
     "end_time": "2023-03-29T04:59:22.440410",
     "exception": false,
     "start_time": "2023-03-29T04:59:21.967871",
     "status": "completed"
    },
    "tags": []
   },
   "outputs": [
    {
     "name": "stdout",
     "output_type": "stream",
     "text": [
      "Acuuracy score : 0.99\n"
     ]
    },
    {
     "data": {
      "image/png": "[encoded data removed]",
      "text/plain": [
       "<Figure size 640x480 with 2 Axes>"
      ]
     },
     "metadata": {},
     "output_type": "display_data"
    }
   ],
   "source": [
    "confu_matrix_plot(y_test, y_pred_ANN)"
   ]
  }
 ],
 "metadata": {
  "kernelspec": {
   "display_name": "Python 3",
   "language": "python",
   "name": "python3"
  },
  "language_info": {
   "codemirror_mode": {
    "name": "ipython",
    "version": 3
   },
   "file_extension": ".py",
   "mimetype": "text/x-python",
   "name": "python",
   "nbconvert_exporter": "python",
   "pygments_lexer": "ipython3",
   "version": "3.7.12"
  },
  "papermill": {
   "default_parameters": {},
   "duration": 530.096772,
   "end_time": "2023-03-29T04:59:25.242023",
   "environment_variables": {},
   "exception": null,
   "input_path": "__notebook__.ipynb",
   "output_path": "__notebook__.ipynb",
   "parameters": {},
   "start_time": "2023-03-29T04:50:35.145251",
   "version": "2.4.0"
  }
 },
 "nbformat": 4,
 "nbformat_minor": 5
}
