{
 "cells": [
  {
   "cell_type": "markdown",
   "id": "fe1cc1c0",
   "metadata": {
    "papermill": {
     "duration": 0.009887,
     "end_time": "2023-03-24T11:03:12.750224",
     "exception": false,
     "start_time": "2023-03-24T11:03:12.740337",
     "status": "completed"
    },
    "tags": []
   },
   "source": [
    "# Import Data"
   ]
  },
  {
   "cell_type": "code",
   "execution_count": 1,
   "id": "57ac159a",
   "metadata": {
    "execution": {
     "iopub.execute_input": "2023-03-24T11:03:12.770118Z",
     "iopub.status.busy": "2023-03-24T11:03:12.769105Z",
     "iopub.status.idle": "2023-03-24T11:03:12.782945Z",
     "shell.execute_reply": "2023-03-24T11:03:12.781720Z"
    },
    "papermill": {
     "duration": 0.02692,
     "end_time": "2023-03-24T11:03:12.785516",
     "exception": false,
     "start_time": "2023-03-24T11:03:12.758596",
     "status": "completed"
    },
    "tags": []
   },
   "outputs": [],
   "source": [
    "import pandas as pd\n",
    "import numpy as np"
   ]
  },
  {
   "cell_type": "code",
   "execution_count": 2,
   "id": "053e91f6",
   "metadata": {
    "execution": {
     "iopub.execute_input": "2023-03-24T11:03:12.804491Z",
     "iopub.status.busy": "2023-03-24T11:03:12.803808Z",
     "iopub.status.idle": "2023-03-24T11:03:14.394664Z",
     "shell.execute_reply": "2023-03-24T11:03:14.393106Z"
    },
    "papermill": {
     "duration": 1.604245,
     "end_time": "2023-03-24T11:03:14.398112",
     "exception": false,
     "start_time": "2023-03-24T11:03:12.793867",
     "status": "completed"
    },
    "tags": []
   },
   "outputs": [],
   "source": [
    "True_df = pd.read_csv(\"/kaggle/input/fake-and-real-news-dataset/True.csv\")"
   ]
  },
  {
   "cell_type": "code",
   "execution_count": 3,
   "id": "536c7ed8",
   "metadata": {
    "execution": {
     "iopub.execute_input": "2023-03-24T11:03:14.418558Z",
     "iopub.status.busy": "2023-03-24T11:03:14.417992Z",
     "iopub.status.idle": "2023-03-24T11:03:14.446635Z",
     "shell.execute_reply": "2023-03-24T11:03:14.445237Z"
    },
    "papermill": {
     "duration": 0.042075,
     "end_time": "2023-03-24T11:03:14.449058",
     "exception": false,
     "start_time": "2023-03-24T11:03:14.406983",
     "status": "completed"
    },
    "tags": []
   },
   "outputs": [
    {
     "data": {
      "text/plain": [
       "title      0\n",
       "text       0\n",
       "subject    0\n",
       "date       0\n",
       "dtype: int64"
      ]
     },
     "execution_count": 3,
     "metadata": {},
     "output_type": "execute_result"
    }
   ],
   "source": [
    "True_df.isna().sum()"
   ]
  },
  {
   "cell_type": "code",
   "execution_count": 4,
   "id": "2d950a79",
   "metadata": {
    "execution": {
     "iopub.execute_input": "2023-03-24T11:03:14.469692Z",
     "iopub.status.busy": "2023-03-24T11:03:14.468985Z",
     "iopub.status.idle": "2023-03-24T11:03:16.317307Z",
     "shell.execute_reply": "2023-03-24T11:03:16.316127Z"
    },
    "papermill": {
     "duration": 1.862629,
     "end_time": "2023-03-24T11:03:16.320597",
     "exception": false,
     "start_time": "2023-03-24T11:03:14.457968",
     "status": "completed"
    },
    "tags": []
   },
   "outputs": [],
   "source": [
    "Fake_df = pd.read_csv(\"/kaggle/input/fake-and-real-news-dataset/Fake.csv\")"
   ]
  },
  {
   "cell_type": "code",
   "execution_count": 5,
   "id": "7b659399",
   "metadata": {
    "execution": {
     "iopub.execute_input": "2023-03-24T11:03:16.344803Z",
     "iopub.status.busy": "2023-03-24T11:03:16.343678Z",
     "iopub.status.idle": "2023-03-24T11:03:16.365447Z",
     "shell.execute_reply": "2023-03-24T11:03:16.364053Z"
    },
    "papermill": {
     "duration": 0.036765,
     "end_time": "2023-03-24T11:03:16.368816",
     "exception": false,
     "start_time": "2023-03-24T11:03:16.332051",
     "status": "completed"
    },
    "tags": []
   },
   "outputs": [
    {
     "data": {
      "text/plain": [
       "title      0\n",
       "text       0\n",
       "subject    0\n",
       "date       0\n",
       "dtype: int64"
      ]
     },
     "execution_count": 5,
     "metadata": {},
     "output_type": "execute_result"
    }
   ],
   "source": [
    "Fake_df.isna().sum()"
   ]
  },
  {
   "cell_type": "markdown",
   "id": "33039da3",
   "metadata": {
    "papermill": {
     "duration": 0.008645,
     "end_time": "2023-03-24T11:03:16.386678",
     "exception": false,
     "start_time": "2023-03-24T11:03:16.378033",
     "status": "completed"
    },
    "tags": []
   },
   "source": [
    "## duplicated row check"
   ]
  },
  {
   "cell_type": "code",
   "execution_count": 6,
   "id": "af19596e",
   "metadata": {
    "execution": {
     "iopub.execute_input": "2023-03-24T11:03:16.409365Z",
     "iopub.status.busy": "2023-03-24T11:03:16.408799Z",
     "iopub.status.idle": "2023-03-24T11:03:16.645876Z",
     "shell.execute_reply": "2023-03-24T11:03:16.644326Z"
    },
    "papermill": {
     "duration": 0.25125,
     "end_time": "2023-03-24T11:03:16.648935",
     "exception": false,
     "start_time": "2023-03-24T11:03:16.397685",
     "status": "completed"
    },
    "tags": []
   },
   "outputs": [
    {
     "data": {
      "text/plain": [
       "206"
      ]
     },
     "execution_count": 6,
     "metadata": {},
     "output_type": "execute_result"
    }
   ],
   "source": [
    "True_df.duplicated().sum()"
   ]
  },
  {
   "cell_type": "code",
   "execution_count": 7,
   "id": "65eb71cf",
   "metadata": {
    "execution": {
     "iopub.execute_input": "2023-03-24T11:03:16.671148Z",
     "iopub.status.busy": "2023-03-24T11:03:16.669611Z",
     "iopub.status.idle": "2023-03-24T11:03:16.839271Z",
     "shell.execute_reply": "2023-03-24T11:03:16.837606Z"
    },
    "papermill": {
     "duration": 0.184159,
     "end_time": "2023-03-24T11:03:16.842374",
     "exception": false,
     "start_time": "2023-03-24T11:03:16.658215",
     "status": "completed"
    },
    "tags": []
   },
   "outputs": [
    {
     "data": {
      "text/plain": [
       "3"
      ]
     },
     "execution_count": 7,
     "metadata": {},
     "output_type": "execute_result"
    }
   ],
   "source": [
    "Fake_df.duplicated().sum()"
   ]
  },
  {
   "cell_type": "code",
   "execution_count": 8,
   "id": "a690b383",
   "metadata": {
    "execution": {
     "iopub.execute_input": "2023-03-24T11:03:16.863980Z",
     "iopub.status.busy": "2023-03-24T11:03:16.862740Z",
     "iopub.status.idle": "2023-03-24T11:03:17.173599Z",
     "shell.execute_reply": "2023-03-24T11:03:17.172106Z"
    },
    "papermill": {
     "duration": 0.325218,
     "end_time": "2023-03-24T11:03:17.176842",
     "exception": false,
     "start_time": "2023-03-24T11:03:16.851624",
     "status": "completed"
    },
    "tags": []
   },
   "outputs": [],
   "source": [
    "True_df.drop_duplicates(inplace = True)\n",
    "Fake_df.drop_duplicates(inplace = True)"
   ]
  },
  {
   "cell_type": "markdown",
   "id": "ea0d5958",
   "metadata": {
    "papermill": {
     "duration": 0.00834,
     "end_time": "2023-03-24T11:03:17.194422",
     "exception": false,
     "start_time": "2023-03-24T11:03:17.186082",
     "status": "completed"
    },
    "tags": []
   },
   "source": [
    "# combined dataset"
   ]
  },
  {
   "cell_type": "code",
   "execution_count": 9,
   "id": "f0f4712b",
   "metadata": {
    "execution": {
     "iopub.execute_input": "2023-03-24T11:03:17.214998Z",
     "iopub.status.busy": "2023-03-24T11:03:17.213727Z",
     "iopub.status.idle": "2023-03-24T11:03:17.254164Z",
     "shell.execute_reply": "2023-03-24T11:03:17.252729Z"
    },
    "papermill": {
     "duration": 0.053824,
     "end_time": "2023-03-24T11:03:17.256963",
     "exception": false,
     "start_time": "2023-03-24T11:03:17.203139",
     "status": "completed"
    },
    "tags": []
   },
   "outputs": [
    {
     "data": {
      "text/html": [
       "<div>\n",
       "<style scoped>\n",
       "    .dataframe tbody tr th:only-of-type {\n",
       "        vertical-align: middle;\n",
       "    }\n",
       "\n",
       "    .dataframe tbody tr th {\n",
       "        vertical-align: top;\n",
       "    }\n",
       "\n",
       "    .dataframe thead th {\n",
       "        text-align: right;\n",
       "    }\n",
       "</style>\n",
       "<table border=\"1\" class=\"dataframe\">\n",
       "  <thead>\n",
       "    <tr style=\"text-align: right;\">\n",
       "      <th></th>\n",
       "      <th>title</th>\n",
       "      <th>text</th>\n",
       "      <th>subject</th>\n",
       "      <th>date</th>\n",
       "    </tr>\n",
       "  </thead>\n",
       "  <tbody>\n",
       "    <tr>\n",
       "      <th>0</th>\n",
       "      <td>As U.S. budget fight looms, Republicans flip t...</td>\n",
       "      <td>WASHINGTON (Reuters) - The head of a conservat...</td>\n",
       "      <td>politicsNews</td>\n",
       "      <td>December 31, 2017</td>\n",
       "    </tr>\n",
       "    <tr>\n",
       "      <th>1</th>\n",
       "      <td>U.S. military to accept transgender recruits o...</td>\n",
       "      <td>WASHINGTON (Reuters) - Transgender people will...</td>\n",
       "      <td>politicsNews</td>\n",
       "      <td>December 29, 2017</td>\n",
       "    </tr>\n",
       "    <tr>\n",
       "      <th>2</th>\n",
       "      <td>Senior U.S. Republican senator: 'Let Mr. Muell...</td>\n",
       "      <td>WASHINGTON (Reuters) - The special counsel inv...</td>\n",
       "      <td>politicsNews</td>\n",
       "      <td>December 31, 2017</td>\n",
       "    </tr>\n",
       "    <tr>\n",
       "      <th>3</th>\n",
       "      <td>FBI Russia probe helped by Australian diplomat...</td>\n",
       "      <td>WASHINGTON (Reuters) - Trump campaign adviser ...</td>\n",
       "      <td>politicsNews</td>\n",
       "      <td>December 30, 2017</td>\n",
       "    </tr>\n",
       "    <tr>\n",
       "      <th>4</th>\n",
       "      <td>Trump wants Postal Service to charge 'much mor...</td>\n",
       "      <td>SEATTLE/WASHINGTON (Reuters) - President Donal...</td>\n",
       "      <td>politicsNews</td>\n",
       "      <td>December 29, 2017</td>\n",
       "    </tr>\n",
       "  </tbody>\n",
       "</table>\n",
       "</div>"
      ],
      "text/plain": [
       "                                               title  \\\n",
       "0  As U.S. budget fight looms, Republicans flip t...   \n",
       "1  U.S. military to accept transgender recruits o...   \n",
       "2  Senior U.S. Republican senator: 'Let Mr. Muell...   \n",
       "3  FBI Russia probe helped by Australian diplomat...   \n",
       "4  Trump wants Postal Service to charge 'much mor...   \n",
       "\n",
       "                                                text       subject  \\\n",
       "0  WASHINGTON (Reuters) - The head of a conservat...  politicsNews   \n",
       "1  WASHINGTON (Reuters) - Transgender people will...  politicsNews   \n",
       "2  WASHINGTON (Reuters) - The special counsel inv...  politicsNews   \n",
       "3  WASHINGTON (Reuters) - Trump campaign adviser ...  politicsNews   \n",
       "4  SEATTLE/WASHINGTON (Reuters) - President Donal...  politicsNews   \n",
       "\n",
       "                 date  \n",
       "0  December 31, 2017   \n",
       "1  December 29, 2017   \n",
       "2  December 31, 2017   \n",
       "3  December 30, 2017   \n",
       "4  December 29, 2017   "
      ]
     },
     "metadata": {},
     "output_type": "display_data"
    },
    {
     "data": {
      "text/html": [
       "<div>\n",
       "<style scoped>\n",
       "    .dataframe tbody tr th:only-of-type {\n",
       "        vertical-align: middle;\n",
       "    }\n",
       "\n",
       "    .dataframe tbody tr th {\n",
       "        vertical-align: top;\n",
       "    }\n",
       "\n",
       "    .dataframe thead th {\n",
       "        text-align: right;\n",
       "    }\n",
       "</style>\n",
       "<table border=\"1\" class=\"dataframe\">\n",
       "  <thead>\n",
       "    <tr style=\"text-align: right;\">\n",
       "      <th></th>\n",
       "      <th>title</th>\n",
       "      <th>text</th>\n",
       "      <th>subject</th>\n",
       "      <th>date</th>\n",
       "    </tr>\n",
       "  </thead>\n",
       "  <tbody>\n",
       "    <tr>\n",
       "      <th>23476</th>\n",
       "      <td>McPain: John McCain Furious That Iran Treated ...</td>\n",
       "      <td>21st Century Wire says As 21WIRE reported earl...</td>\n",
       "      <td>Middle-east</td>\n",
       "      <td>January 16, 2016</td>\n",
       "    </tr>\n",
       "    <tr>\n",
       "      <th>23477</th>\n",
       "      <td>JUSTICE? Yahoo Settles E-mail Privacy Class-ac...</td>\n",
       "      <td>21st Century Wire says It s a familiar theme. ...</td>\n",
       "      <td>Middle-east</td>\n",
       "      <td>January 16, 2016</td>\n",
       "    </tr>\n",
       "    <tr>\n",
       "      <th>23478</th>\n",
       "      <td>Sunnistan: US and Allied ‘Safe Zone’ Plan to T...</td>\n",
       "      <td>Patrick Henningsen  21st Century WireRemember ...</td>\n",
       "      <td>Middle-east</td>\n",
       "      <td>January 15, 2016</td>\n",
       "    </tr>\n",
       "    <tr>\n",
       "      <th>23479</th>\n",
       "      <td>How to Blow $700 Million: Al Jazeera America F...</td>\n",
       "      <td>21st Century Wire says Al Jazeera America will...</td>\n",
       "      <td>Middle-east</td>\n",
       "      <td>January 14, 2016</td>\n",
       "    </tr>\n",
       "    <tr>\n",
       "      <th>23480</th>\n",
       "      <td>10 U.S. Navy Sailors Held by Iranian Military ...</td>\n",
       "      <td>21st Century Wire says As 21WIRE predicted in ...</td>\n",
       "      <td>Middle-east</td>\n",
       "      <td>January 12, 2016</td>\n",
       "    </tr>\n",
       "  </tbody>\n",
       "</table>\n",
       "</div>"
      ],
      "text/plain": [
       "                                                   title  \\\n",
       "23476  McPain: John McCain Furious That Iran Treated ...   \n",
       "23477  JUSTICE? Yahoo Settles E-mail Privacy Class-ac...   \n",
       "23478  Sunnistan: US and Allied ‘Safe Zone’ Plan to T...   \n",
       "23479  How to Blow $700 Million: Al Jazeera America F...   \n",
       "23480  10 U.S. Navy Sailors Held by Iranian Military ...   \n",
       "\n",
       "                                                    text      subject  \\\n",
       "23476  21st Century Wire says As 21WIRE reported earl...  Middle-east   \n",
       "23477  21st Century Wire says It s a familiar theme. ...  Middle-east   \n",
       "23478  Patrick Henningsen  21st Century WireRemember ...  Middle-east   \n",
       "23479  21st Century Wire says Al Jazeera America will...  Middle-east   \n",
       "23480  21st Century Wire says As 21WIRE predicted in ...  Middle-east   \n",
       "\n",
       "                   date  \n",
       "23476  January 16, 2016  \n",
       "23477  January 16, 2016  \n",
       "23478  January 15, 2016  \n",
       "23479  January 14, 2016  \n",
       "23480  January 12, 2016  "
      ]
     },
     "metadata": {},
     "output_type": "display_data"
    }
   ],
   "source": [
    "display(True_df.head())\n",
    "display(Fake_df.tail())"
   ]
  },
  {
   "cell_type": "code",
   "execution_count": 10,
   "id": "a192e534",
   "metadata": {
    "execution": {
     "iopub.execute_input": "2023-03-24T11:03:17.277797Z",
     "iopub.status.busy": "2023-03-24T11:03:17.277358Z",
     "iopub.status.idle": "2023-03-24T11:03:17.285345Z",
     "shell.execute_reply": "2023-03-24T11:03:17.284003Z"
    },
    "papermill": {
     "duration": 0.021531,
     "end_time": "2023-03-24T11:03:17.287933",
     "exception": false,
     "start_time": "2023-03-24T11:03:17.266402",
     "status": "completed"
    },
    "tags": []
   },
   "outputs": [],
   "source": [
    "True_df[\"Fake\"] = 0\n",
    "Fake_df[\"Fake\"] = 1"
   ]
  },
  {
   "cell_type": "code",
   "execution_count": 11,
   "id": "9a9dd7dd",
   "metadata": {
    "execution": {
     "iopub.execute_input": "2023-03-24T11:03:17.309267Z",
     "iopub.status.busy": "2023-03-24T11:03:17.308836Z",
     "iopub.status.idle": "2023-03-24T11:03:17.330527Z",
     "shell.execute_reply": "2023-03-24T11:03:17.329454Z"
    },
    "papermill": {
     "duration": 0.035486,
     "end_time": "2023-03-24T11:03:17.333068",
     "exception": false,
     "start_time": "2023-03-24T11:03:17.297582",
     "status": "completed"
    },
    "tags": []
   },
   "outputs": [
    {
     "data": {
      "text/html": [
       "<div>\n",
       "<style scoped>\n",
       "    .dataframe tbody tr th:only-of-type {\n",
       "        vertical-align: middle;\n",
       "    }\n",
       "\n",
       "    .dataframe tbody tr th {\n",
       "        vertical-align: top;\n",
       "    }\n",
       "\n",
       "    .dataframe thead th {\n",
       "        text-align: right;\n",
       "    }\n",
       "</style>\n",
       "<table border=\"1\" class=\"dataframe\">\n",
       "  <thead>\n",
       "    <tr style=\"text-align: right;\">\n",
       "      <th></th>\n",
       "      <th>title</th>\n",
       "      <th>text</th>\n",
       "      <th>subject</th>\n",
       "      <th>date</th>\n",
       "      <th>Fake</th>\n",
       "    </tr>\n",
       "  </thead>\n",
       "  <tbody>\n",
       "    <tr>\n",
       "      <th>0</th>\n",
       "      <td>As U.S. budget fight looms, Republicans flip t...</td>\n",
       "      <td>WASHINGTON (Reuters) - The head of a conservat...</td>\n",
       "      <td>politicsNews</td>\n",
       "      <td>December 31, 2017</td>\n",
       "      <td>0</td>\n",
       "    </tr>\n",
       "    <tr>\n",
       "      <th>1</th>\n",
       "      <td>U.S. military to accept transgender recruits o...</td>\n",
       "      <td>WASHINGTON (Reuters) - Transgender people will...</td>\n",
       "      <td>politicsNews</td>\n",
       "      <td>December 29, 2017</td>\n",
       "      <td>0</td>\n",
       "    </tr>\n",
       "    <tr>\n",
       "      <th>2</th>\n",
       "      <td>Senior U.S. Republican senator: 'Let Mr. Muell...</td>\n",
       "      <td>WASHINGTON (Reuters) - The special counsel inv...</td>\n",
       "      <td>politicsNews</td>\n",
       "      <td>December 31, 2017</td>\n",
       "      <td>0</td>\n",
       "    </tr>\n",
       "    <tr>\n",
       "      <th>3</th>\n",
       "      <td>FBI Russia probe helped by Australian diplomat...</td>\n",
       "      <td>WASHINGTON (Reuters) - Trump campaign adviser ...</td>\n",
       "      <td>politicsNews</td>\n",
       "      <td>December 30, 2017</td>\n",
       "      <td>0</td>\n",
       "    </tr>\n",
       "    <tr>\n",
       "      <th>4</th>\n",
       "      <td>Trump wants Postal Service to charge 'much mor...</td>\n",
       "      <td>SEATTLE/WASHINGTON (Reuters) - President Donal...</td>\n",
       "      <td>politicsNews</td>\n",
       "      <td>December 29, 2017</td>\n",
       "      <td>0</td>\n",
       "    </tr>\n",
       "  </tbody>\n",
       "</table>\n",
       "</div>"
      ],
      "text/plain": [
       "                                               title  \\\n",
       "0  As U.S. budget fight looms, Republicans flip t...   \n",
       "1  U.S. military to accept transgender recruits o...   \n",
       "2  Senior U.S. Republican senator: 'Let Mr. Muell...   \n",
       "3  FBI Russia probe helped by Australian diplomat...   \n",
       "4  Trump wants Postal Service to charge 'much mor...   \n",
       "\n",
       "                                                text       subject  \\\n",
       "0  WASHINGTON (Reuters) - The head of a conservat...  politicsNews   \n",
       "1  WASHINGTON (Reuters) - Transgender people will...  politicsNews   \n",
       "2  WASHINGTON (Reuters) - The special counsel inv...  politicsNews   \n",
       "3  WASHINGTON (Reuters) - Trump campaign adviser ...  politicsNews   \n",
       "4  SEATTLE/WASHINGTON (Reuters) - President Donal...  politicsNews   \n",
       "\n",
       "                 date  Fake  \n",
       "0  December 31, 2017      0  \n",
       "1  December 29, 2017      0  \n",
       "2  December 31, 2017      0  \n",
       "3  December 30, 2017      0  \n",
       "4  December 29, 2017      0  "
      ]
     },
     "metadata": {},
     "output_type": "display_data"
    },
    {
     "data": {
      "text/html": [
       "<div>\n",
       "<style scoped>\n",
       "    .dataframe tbody tr th:only-of-type {\n",
       "        vertical-align: middle;\n",
       "    }\n",
       "\n",
       "    .dataframe tbody tr th {\n",
       "        vertical-align: top;\n",
       "    }\n",
       "\n",
       "    .dataframe thead th {\n",
       "        text-align: right;\n",
       "    }\n",
       "</style>\n",
       "<table border=\"1\" class=\"dataframe\">\n",
       "  <thead>\n",
       "    <tr style=\"text-align: right;\">\n",
       "      <th></th>\n",
       "      <th>title</th>\n",
       "      <th>text</th>\n",
       "      <th>subject</th>\n",
       "      <th>date</th>\n",
       "      <th>Fake</th>\n",
       "    </tr>\n",
       "  </thead>\n",
       "  <tbody>\n",
       "    <tr>\n",
       "      <th>23476</th>\n",
       "      <td>McPain: John McCain Furious That Iran Treated ...</td>\n",
       "      <td>21st Century Wire says As 21WIRE reported earl...</td>\n",
       "      <td>Middle-east</td>\n",
       "      <td>January 16, 2016</td>\n",
       "      <td>1</td>\n",
       "    </tr>\n",
       "    <tr>\n",
       "      <th>23477</th>\n",
       "      <td>JUSTICE? Yahoo Settles E-mail Privacy Class-ac...</td>\n",
       "      <td>21st Century Wire says It s a familiar theme. ...</td>\n",
       "      <td>Middle-east</td>\n",
       "      <td>January 16, 2016</td>\n",
       "      <td>1</td>\n",
       "    </tr>\n",
       "    <tr>\n",
       "      <th>23478</th>\n",
       "      <td>Sunnistan: US and Allied ‘Safe Zone’ Plan to T...</td>\n",
       "      <td>Patrick Henningsen  21st Century WireRemember ...</td>\n",
       "      <td>Middle-east</td>\n",
       "      <td>January 15, 2016</td>\n",
       "      <td>1</td>\n",
       "    </tr>\n",
       "    <tr>\n",
       "      <th>23479</th>\n",
       "      <td>How to Blow $700 Million: Al Jazeera America F...</td>\n",
       "      <td>21st Century Wire says Al Jazeera America will...</td>\n",
       "      <td>Middle-east</td>\n",
       "      <td>January 14, 2016</td>\n",
       "      <td>1</td>\n",
       "    </tr>\n",
       "    <tr>\n",
       "      <th>23480</th>\n",
       "      <td>10 U.S. Navy Sailors Held by Iranian Military ...</td>\n",
       "      <td>21st Century Wire says As 21WIRE predicted in ...</td>\n",
       "      <td>Middle-east</td>\n",
       "      <td>January 12, 2016</td>\n",
       "      <td>1</td>\n",
       "    </tr>\n",
       "  </tbody>\n",
       "</table>\n",
       "</div>"
      ],
      "text/plain": [
       "                                                   title  \\\n",
       "23476  McPain: John McCain Furious That Iran Treated ...   \n",
       "23477  JUSTICE? Yahoo Settles E-mail Privacy Class-ac...   \n",
       "23478  Sunnistan: US and Allied ‘Safe Zone’ Plan to T...   \n",
       "23479  How to Blow $700 Million: Al Jazeera America F...   \n",
       "23480  10 U.S. Navy Sailors Held by Iranian Military ...   \n",
       "\n",
       "                                                    text      subject  \\\n",
       "23476  21st Century Wire says As 21WIRE reported earl...  Middle-east   \n",
       "23477  21st Century Wire says It s a familiar theme. ...  Middle-east   \n",
       "23478  Patrick Henningsen  21st Century WireRemember ...  Middle-east   \n",
       "23479  21st Century Wire says Al Jazeera America will...  Middle-east   \n",
       "23480  21st Century Wire says As 21WIRE predicted in ...  Middle-east   \n",
       "\n",
       "                   date  Fake  \n",
       "23476  January 16, 2016     1  \n",
       "23477  January 16, 2016     1  \n",
       "23478  January 15, 2016     1  \n",
       "23479  January 14, 2016     1  \n",
       "23480  January 12, 2016     1  "
      ]
     },
     "metadata": {},
     "output_type": "display_data"
    }
   ],
   "source": [
    "display(True_df.head())\n",
    "display(Fake_df.tail())"
   ]
  },
  {
   "cell_type": "code",
   "execution_count": 12,
   "id": "0b9316be",
   "metadata": {
    "execution": {
     "iopub.execute_input": "2023-03-24T11:03:17.354905Z",
     "iopub.status.busy": "2023-03-24T11:03:17.354421Z",
     "iopub.status.idle": "2023-03-24T11:03:17.367140Z",
     "shell.execute_reply": "2023-03-24T11:03:17.365809Z"
    },
    "papermill": {
     "duration": 0.026783,
     "end_time": "2023-03-24T11:03:17.369741",
     "exception": false,
     "start_time": "2023-03-24T11:03:17.342958",
     "status": "completed"
    },
    "tags": []
   },
   "outputs": [],
   "source": [
    "df = pd.concat([True_df, Fake_df],axis = 0)\n",
    "df.reset_index(inplace = True, drop = True)"
   ]
  },
  {
   "cell_type": "code",
   "execution_count": 13,
   "id": "20a03062",
   "metadata": {
    "execution": {
     "iopub.execute_input": "2023-03-24T11:03:17.391665Z",
     "iopub.status.busy": "2023-03-24T11:03:17.390927Z",
     "iopub.status.idle": "2023-03-24T11:03:17.409952Z",
     "shell.execute_reply": "2023-03-24T11:03:17.408744Z"
    },
    "papermill": {
     "duration": 0.033003,
     "end_time": "2023-03-24T11:03:17.412545",
     "exception": false,
     "start_time": "2023-03-24T11:03:17.379542",
     "status": "completed"
    },
    "tags": []
   },
   "outputs": [
    {
     "data": {
      "text/html": [
       "<div>\n",
       "<style scoped>\n",
       "    .dataframe tbody tr th:only-of-type {\n",
       "        vertical-align: middle;\n",
       "    }\n",
       "\n",
       "    .dataframe tbody tr th {\n",
       "        vertical-align: top;\n",
       "    }\n",
       "\n",
       "    .dataframe thead th {\n",
       "        text-align: right;\n",
       "    }\n",
       "</style>\n",
       "<table border=\"1\" class=\"dataframe\">\n",
       "  <thead>\n",
       "    <tr style=\"text-align: right;\">\n",
       "      <th></th>\n",
       "      <th>title</th>\n",
       "      <th>text</th>\n",
       "      <th>subject</th>\n",
       "      <th>date</th>\n",
       "      <th>Fake</th>\n",
       "    </tr>\n",
       "  </thead>\n",
       "  <tbody>\n",
       "    <tr>\n",
       "      <th>0</th>\n",
       "      <td>As U.S. budget fight looms, Republicans flip t...</td>\n",
       "      <td>WASHINGTON (Reuters) - The head of a conservat...</td>\n",
       "      <td>politicsNews</td>\n",
       "      <td>December 31, 2017</td>\n",
       "      <td>0</td>\n",
       "    </tr>\n",
       "    <tr>\n",
       "      <th>1</th>\n",
       "      <td>U.S. military to accept transgender recruits o...</td>\n",
       "      <td>WASHINGTON (Reuters) - Transgender people will...</td>\n",
       "      <td>politicsNews</td>\n",
       "      <td>December 29, 2017</td>\n",
       "      <td>0</td>\n",
       "    </tr>\n",
       "    <tr>\n",
       "      <th>2</th>\n",
       "      <td>Senior U.S. Republican senator: 'Let Mr. Muell...</td>\n",
       "      <td>WASHINGTON (Reuters) - The special counsel inv...</td>\n",
       "      <td>politicsNews</td>\n",
       "      <td>December 31, 2017</td>\n",
       "      <td>0</td>\n",
       "    </tr>\n",
       "    <tr>\n",
       "      <th>3</th>\n",
       "      <td>FBI Russia probe helped by Australian diplomat...</td>\n",
       "      <td>WASHINGTON (Reuters) - Trump campaign adviser ...</td>\n",
       "      <td>politicsNews</td>\n",
       "      <td>December 30, 2017</td>\n",
       "      <td>0</td>\n",
       "    </tr>\n",
       "    <tr>\n",
       "      <th>4</th>\n",
       "      <td>Trump wants Postal Service to charge 'much mor...</td>\n",
       "      <td>SEATTLE/WASHINGTON (Reuters) - President Donal...</td>\n",
       "      <td>politicsNews</td>\n",
       "      <td>December 29, 2017</td>\n",
       "      <td>0</td>\n",
       "    </tr>\n",
       "    <tr>\n",
       "      <th>...</th>\n",
       "      <td>...</td>\n",
       "      <td>...</td>\n",
       "      <td>...</td>\n",
       "      <td>...</td>\n",
       "      <td>...</td>\n",
       "    </tr>\n",
       "    <tr>\n",
       "      <th>44684</th>\n",
       "      <td>McPain: John McCain Furious That Iran Treated ...</td>\n",
       "      <td>21st Century Wire says As 21WIRE reported earl...</td>\n",
       "      <td>Middle-east</td>\n",
       "      <td>January 16, 2016</td>\n",
       "      <td>1</td>\n",
       "    </tr>\n",
       "    <tr>\n",
       "      <th>44685</th>\n",
       "      <td>JUSTICE? Yahoo Settles E-mail Privacy Class-ac...</td>\n",
       "      <td>21st Century Wire says It s a familiar theme. ...</td>\n",
       "      <td>Middle-east</td>\n",
       "      <td>January 16, 2016</td>\n",
       "      <td>1</td>\n",
       "    </tr>\n",
       "    <tr>\n",
       "      <th>44686</th>\n",
       "      <td>Sunnistan: US and Allied ‘Safe Zone’ Plan to T...</td>\n",
       "      <td>Patrick Henningsen  21st Century WireRemember ...</td>\n",
       "      <td>Middle-east</td>\n",
       "      <td>January 15, 2016</td>\n",
       "      <td>1</td>\n",
       "    </tr>\n",
       "    <tr>\n",
       "      <th>44687</th>\n",
       "      <td>How to Blow $700 Million: Al Jazeera America F...</td>\n",
       "      <td>21st Century Wire says Al Jazeera America will...</td>\n",
       "      <td>Middle-east</td>\n",
       "      <td>January 14, 2016</td>\n",
       "      <td>1</td>\n",
       "    </tr>\n",
       "    <tr>\n",
       "      <th>44688</th>\n",
       "      <td>10 U.S. Navy Sailors Held by Iranian Military ...</td>\n",
       "      <td>21st Century Wire says As 21WIRE predicted in ...</td>\n",
       "      <td>Middle-east</td>\n",
       "      <td>January 12, 2016</td>\n",
       "      <td>1</td>\n",
       "    </tr>\n",
       "  </tbody>\n",
       "</table>\n",
       "<p>44689 rows × 5 columns</p>\n",
       "</div>"
      ],
      "text/plain": [
       "                                                   title  \\\n",
       "0      As U.S. budget fight looms, Republicans flip t...   \n",
       "1      U.S. military to accept transgender recruits o...   \n",
       "2      Senior U.S. Republican senator: 'Let Mr. Muell...   \n",
       "3      FBI Russia probe helped by Australian diplomat...   \n",
       "4      Trump wants Postal Service to charge 'much mor...   \n",
       "...                                                  ...   \n",
       "44684  McPain: John McCain Furious That Iran Treated ...   \n",
       "44685  JUSTICE? Yahoo Settles E-mail Privacy Class-ac...   \n",
       "44686  Sunnistan: US and Allied ‘Safe Zone’ Plan to T...   \n",
       "44687  How to Blow $700 Million: Al Jazeera America F...   \n",
       "44688  10 U.S. Navy Sailors Held by Iranian Military ...   \n",
       "\n",
       "                                                    text       subject  \\\n",
       "0      WASHINGTON (Reuters) - The head of a conservat...  politicsNews   \n",
       "1      WASHINGTON (Reuters) - Transgender people will...  politicsNews   \n",
       "2      WASHINGTON (Reuters) - The special counsel inv...  politicsNews   \n",
       "3      WASHINGTON (Reuters) - Trump campaign adviser ...  politicsNews   \n",
       "4      SEATTLE/WASHINGTON (Reuters) - President Donal...  politicsNews   \n",
       "...                                                  ...           ...   \n",
       "44684  21st Century Wire says As 21WIRE reported earl...   Middle-east   \n",
       "44685  21st Century Wire says It s a familiar theme. ...   Middle-east   \n",
       "44686  Patrick Henningsen  21st Century WireRemember ...   Middle-east   \n",
       "44687  21st Century Wire says Al Jazeera America will...   Middle-east   \n",
       "44688  21st Century Wire says As 21WIRE predicted in ...   Middle-east   \n",
       "\n",
       "                     date  Fake  \n",
       "0      December 31, 2017      0  \n",
       "1      December 29, 2017      0  \n",
       "2      December 31, 2017      0  \n",
       "3      December 30, 2017      0  \n",
       "4      December 29, 2017      0  \n",
       "...                   ...   ...  \n",
       "44684    January 16, 2016     1  \n",
       "44685    January 16, 2016     1  \n",
       "44686    January 15, 2016     1  \n",
       "44687    January 14, 2016     1  \n",
       "44688    January 12, 2016     1  \n",
       "\n",
       "[44689 rows x 5 columns]"
      ]
     },
     "metadata": {},
     "output_type": "display_data"
    }
   ],
   "source": [
    "display(df)"
   ]
  },
  {
   "cell_type": "code",
   "execution_count": 14,
   "id": "986ec03f",
   "metadata": {
    "execution": {
     "iopub.execute_input": "2023-03-24T11:03:17.435244Z",
     "iopub.status.busy": "2023-03-24T11:03:17.434780Z",
     "iopub.status.idle": "2023-03-24T11:03:17.443714Z",
     "shell.execute_reply": "2023-03-24T11:03:17.442492Z"
    },
    "papermill": {
     "duration": 0.023047,
     "end_time": "2023-03-24T11:03:17.446100",
     "exception": false,
     "start_time": "2023-03-24T11:03:17.423053",
     "status": "completed"
    },
    "tags": []
   },
   "outputs": [],
   "source": [
    "def plot_fake_news_by_subject(df):\n",
    "    import seaborn as sns\n",
    "    import matplotlib.pyplot as plt\n",
    "    \n",
    "    sns.set_style(\"white\")\n",
    "    plt.figure(figsize = (10, 5))\n",
    "    ax = sns.barplot(x = df.groupby(by = [\"subject\"])[[\"Fake\"]].count().index.values, y = df.groupby(by = [\"subject\"])[[\"Fake\"]].count()[\"Fake\"].values,\n",
    "                     palette = \"RdYlGn\")\n",
    "    for i in ax.containers:\n",
    "        ax.bar_label(i)\n",
    "    plt.ylabel(\"count\")\n",
    "    plt.xticks(label = df.groupby(by = [\"subject\"])[[\"Fake\"]].count().index.values, rotation = 70)\n",
    "    plt.title(\"Count Fake News by Subject\")\n",
    "    sns.despine()"
   ]
  },
  {
   "cell_type": "code",
   "execution_count": 15,
   "id": "b82ab214",
   "metadata": {
    "execution": {
     "iopub.execute_input": "2023-03-24T11:03:17.468630Z",
     "iopub.status.busy": "2023-03-24T11:03:17.468166Z",
     "iopub.status.idle": "2023-03-24T11:03:19.335840Z",
     "shell.execute_reply": "2023-03-24T11:03:19.334457Z"
    },
    "papermill": {
     "duration": 1.882391,
     "end_time": "2023-03-24T11:03:19.338578",
     "exception": false,
     "start_time": "2023-03-24T11:03:17.456187",
     "status": "completed"
    },
    "tags": []
   },
   "outputs": [
    {
     "data": {
      "image/png": "[encoded data removed]",
      "text/plain": [
       "<Figure size 1000x500 with 1 Axes>"
      ]
     },
     "metadata": {},
     "output_type": "display_data"
    }
   ],
   "source": [
    "plot_fake_news_by_subject(df)"
   ]
  },
  {
   "cell_type": "markdown",
   "id": "ebb8144b",
   "metadata": {
    "papermill": {
     "duration": 0.010771,
     "end_time": "2023-03-24T11:03:19.361248",
     "exception": false,
     "start_time": "2023-03-24T11:03:19.350477",
     "status": "completed"
    },
    "tags": []
   },
   "source": [
    "# Clean text"
   ]
  },
  {
   "cell_type": "code",
   "execution_count": 16,
   "id": "96f1c252",
   "metadata": {
    "execution": {
     "iopub.execute_input": "2023-03-24T11:03:19.386273Z",
     "iopub.status.busy": "2023-03-24T11:03:19.385799Z",
     "iopub.status.idle": "2023-03-24T11:03:19.395332Z",
     "shell.execute_reply": "2023-03-24T11:03:19.394078Z"
    },
    "papermill": {
     "duration": 0.025044,
     "end_time": "2023-03-24T11:03:19.398042",
     "exception": false,
     "start_time": "2023-03-24T11:03:19.372998",
     "status": "completed"
    },
    "tags": []
   },
   "outputs": [],
   "source": [
    "df_text = df.loc[:, [\"text\", \"Fake\"]]"
   ]
  },
  {
   "cell_type": "code",
   "execution_count": 17,
   "id": "2dc5f857",
   "metadata": {
    "execution": {
     "iopub.execute_input": "2023-03-24T11:03:19.422205Z",
     "iopub.status.busy": "2023-03-24T11:03:19.421753Z",
     "iopub.status.idle": "2023-03-24T11:03:19.448547Z",
     "shell.execute_reply": "2023-03-24T11:03:19.447091Z"
    },
    "papermill": {
     "duration": 0.041757,
     "end_time": "2023-03-24T11:03:19.451116",
     "exception": false,
     "start_time": "2023-03-24T11:03:19.409359",
     "status": "completed"
    },
    "tags": []
   },
   "outputs": [
    {
     "name": "stdout",
     "output_type": "stream",
     "text": [
      "<class 'pandas.core.frame.DataFrame'>\n",
      "RangeIndex: 44689 entries, 0 to 44688\n",
      "Data columns (total 2 columns):\n",
      " #   Column  Non-Null Count  Dtype \n",
      "---  ------  --------------  ----- \n",
      " 0   text    44689 non-null  object\n",
      " 1   Fake    44689 non-null  int64 \n",
      "dtypes: int64(1), object(1)\n",
      "memory usage: 698.4+ KB\n"
     ]
    }
   ],
   "source": [
    "df_text.info()"
   ]
  },
  {
   "cell_type": "code",
   "execution_count": 18,
   "id": "35408698",
   "metadata": {
    "execution": {
     "iopub.execute_input": "2023-03-24T11:03:19.476252Z",
     "iopub.status.busy": "2023-03-24T11:03:19.475083Z",
     "iopub.status.idle": "2023-03-24T11:03:19.487418Z",
     "shell.execute_reply": "2023-03-24T11:03:19.486510Z"
    },
    "papermill": {
     "duration": 0.027662,
     "end_time": "2023-03-24T11:03:19.489870",
     "exception": false,
     "start_time": "2023-03-24T11:03:19.462208",
     "status": "completed"
    },
    "tags": []
   },
   "outputs": [
    {
     "data": {
      "text/html": [
       "<div>\n",
       "<style scoped>\n",
       "    .dataframe tbody tr th:only-of-type {\n",
       "        vertical-align: middle;\n",
       "    }\n",
       "\n",
       "    .dataframe tbody tr th {\n",
       "        vertical-align: top;\n",
       "    }\n",
       "\n",
       "    .dataframe thead th {\n",
       "        text-align: right;\n",
       "    }\n",
       "</style>\n",
       "<table border=\"1\" class=\"dataframe\">\n",
       "  <thead>\n",
       "    <tr style=\"text-align: right;\">\n",
       "      <th></th>\n",
       "      <th>text</th>\n",
       "      <th>Fake</th>\n",
       "    </tr>\n",
       "  </thead>\n",
       "  <tbody>\n",
       "    <tr>\n",
       "      <th>0</th>\n",
       "      <td>WASHINGTON (Reuters) - The head of a conservat...</td>\n",
       "      <td>0</td>\n",
       "    </tr>\n",
       "    <tr>\n",
       "      <th>1</th>\n",
       "      <td>WASHINGTON (Reuters) - Transgender people will...</td>\n",
       "      <td>0</td>\n",
       "    </tr>\n",
       "    <tr>\n",
       "      <th>2</th>\n",
       "      <td>WASHINGTON (Reuters) - The special counsel inv...</td>\n",
       "      <td>0</td>\n",
       "    </tr>\n",
       "    <tr>\n",
       "      <th>3</th>\n",
       "      <td>WASHINGTON (Reuters) - Trump campaign adviser ...</td>\n",
       "      <td>0</td>\n",
       "    </tr>\n",
       "    <tr>\n",
       "      <th>4</th>\n",
       "      <td>SEATTLE/WASHINGTON (Reuters) - President Donal...</td>\n",
       "      <td>0</td>\n",
       "    </tr>\n",
       "  </tbody>\n",
       "</table>\n",
       "</div>"
      ],
      "text/plain": [
       "                                                text  Fake\n",
       "0  WASHINGTON (Reuters) - The head of a conservat...     0\n",
       "1  WASHINGTON (Reuters) - Transgender people will...     0\n",
       "2  WASHINGTON (Reuters) - The special counsel inv...     0\n",
       "3  WASHINGTON (Reuters) - Trump campaign adviser ...     0\n",
       "4  SEATTLE/WASHINGTON (Reuters) - President Donal...     0"
      ]
     },
     "execution_count": 18,
     "metadata": {},
     "output_type": "execute_result"
    }
   ],
   "source": [
    "df_text.head()"
   ]
  },
  {
   "cell_type": "code",
   "execution_count": 19,
   "id": "6da1751d",
   "metadata": {
    "execution": {
     "iopub.execute_input": "2023-03-24T11:03:19.514178Z",
     "iopub.status.busy": "2023-03-24T11:03:19.513699Z",
     "iopub.status.idle": "2023-03-24T11:03:19.522448Z",
     "shell.execute_reply": "2023-03-24T11:03:19.521166Z"
    },
    "papermill": {
     "duration": 0.024029,
     "end_time": "2023-03-24T11:03:19.525257",
     "exception": false,
     "start_time": "2023-03-24T11:03:19.501228",
     "status": "completed"
    },
    "tags": []
   },
   "outputs": [],
   "source": [
    "corpus = []\n",
    "def clean_text(df):\n",
    "    import re\n",
    "    import nltk \n",
    "    nltk.download(\"stopwords\")\n",
    "    from nltk.corpus import stopwords\n",
    "    from nltk.stem.porter import PorterStemmer\n",
    "    \n",
    "    for i in range(0, len(df_text)):\n",
    "        text = re.sub(\"[^a-zA-Z]\", \" \", df[\"text\"][i].strip())\n",
    "        text = text.lower()\n",
    "        text = text.split()\n",
    "        \n",
    "        ps = PorterStemmer()\n",
    "        all_stopwords = stopwords.words(\"english\")\n",
    "        all_stopwords.remove(\"not\")\n",
    "        \n",
    "        text = [ps.stem(i) for i in text if not i in set(all_stopwords)]\n",
    "        text = \" \".join(text)\n",
    "        corpus.append(text)"
   ]
  },
  {
   "cell_type": "code",
   "execution_count": 20,
   "id": "4e952945",
   "metadata": {
    "execution": {
     "iopub.execute_input": "2023-03-24T11:03:19.550691Z",
     "iopub.status.busy": "2023-03-24T11:03:19.550281Z",
     "iopub.status.idle": "2023-03-24T11:10:05.659736Z",
     "shell.execute_reply": "2023-03-24T11:10:05.657914Z"
    },
    "papermill": {
     "duration": 406.126402,
     "end_time": "2023-03-24T11:10:05.663615",
     "exception": false,
     "start_time": "2023-03-24T11:03:19.537213",
     "status": "completed"
    },
    "tags": []
   },
   "outputs": [
    {
     "name": "stdout",
     "output_type": "stream",
     "text": [
      "[nltk_data] Downloading package stopwords to /usr/share/nltk_data...\n",
      "[nltk_data]   Package stopwords is already up-to-date!\n"
     ]
    }
   ],
   "source": [
    "clean_text(df)"
   ]
  },
  {
   "cell_type": "code",
   "execution_count": 21,
   "id": "67320aeb",
   "metadata": {
    "execution": {
     "iopub.execute_input": "2023-03-24T11:10:05.697182Z",
     "iopub.status.busy": "2023-03-24T11:10:05.695649Z",
     "iopub.status.idle": "2023-03-24T11:10:14.729047Z",
     "shell.execute_reply": "2023-03-24T11:10:14.727989Z"
    },
    "papermill": {
     "duration": 9.056153,
     "end_time": "2023-03-24T11:10:14.731841",
     "exception": false,
     "start_time": "2023-03-24T11:10:05.675688",
     "status": "completed"
    },
    "tags": []
   },
   "outputs": [],
   "source": [
    "from sklearn.feature_extraction.text import CountVectorizer\n",
    "cv = CountVectorizer(max_features = 2000)\n",
    "x = cv.fit_transform(corpus).toarray()\n",
    "y = df[\"Fake\"].values"
   ]
  },
  {
   "cell_type": "markdown",
   "id": "458f6bbc",
   "metadata": {
    "papermill": {
     "duration": 0.010851,
     "end_time": "2023-03-24T11:10:14.754514",
     "exception": false,
     "start_time": "2023-03-24T11:10:14.743663",
     "status": "completed"
    },
    "tags": []
   },
   "source": [
    "# GaussianNB Model"
   ]
  },
  {
   "cell_type": "code",
   "execution_count": 22,
   "id": "97230f26",
   "metadata": {
    "execution": {
     "iopub.execute_input": "2023-03-24T11:10:14.779670Z",
     "iopub.status.busy": "2023-03-24T11:10:14.778630Z",
     "iopub.status.idle": "2023-03-24T11:10:16.092888Z",
     "shell.execute_reply": "2023-03-24T11:10:16.091600Z"
    },
    "papermill": {
     "duration": 1.329843,
     "end_time": "2023-03-24T11:10:16.095970",
     "exception": false,
     "start_time": "2023-03-24T11:10:14.766127",
     "status": "completed"
    },
    "tags": []
   },
   "outputs": [
    {
     "data": {
      "text/plain": [
       "GaussianNB()"
      ]
     },
     "execution_count": 22,
     "metadata": {},
     "output_type": "execute_result"
    }
   ],
   "source": [
    "from sklearn.model_selection import train_test_split\n",
    "from sklearn.naive_bayes import GaussianNB\n",
    "x_train, x_test, y_train, y_test = train_test_split(x, y, random_state = 0, test_size = 0.25)\n",
    "model = GaussianNB()\n",
    "model.fit(x_train, y_train)"
   ]
  },
  {
   "cell_type": "code",
   "execution_count": 23,
   "id": "b86cba4d",
   "metadata": {
    "execution": {
     "iopub.execute_input": "2023-03-24T11:10:16.123301Z",
     "iopub.status.busy": "2023-03-24T11:10:16.121969Z",
     "iopub.status.idle": "2023-03-24T11:10:16.458603Z",
     "shell.execute_reply": "2023-03-24T11:10:16.457335Z"
    },
    "papermill": {
     "duration": 0.353291,
     "end_time": "2023-03-24T11:10:16.461604",
     "exception": false,
     "start_time": "2023-03-24T11:10:16.108313",
     "status": "completed"
    },
    "tags": []
   },
   "outputs": [],
   "source": [
    "y_pred = model.predict(x_test)"
   ]
  },
  {
   "cell_type": "code",
   "execution_count": 24,
   "id": "5fb5f7b0",
   "metadata": {
    "execution": {
     "iopub.execute_input": "2023-03-24T11:10:16.486146Z",
     "iopub.status.busy": "2023-03-24T11:10:16.485687Z",
     "iopub.status.idle": "2023-03-24T11:10:16.495011Z",
     "shell.execute_reply": "2023-03-24T11:10:16.493773Z"
    },
    "papermill": {
     "duration": 0.024638,
     "end_time": "2023-03-24T11:10:16.497386",
     "exception": false,
     "start_time": "2023-03-24T11:10:16.472748",
     "status": "completed"
    },
    "tags": []
   },
   "outputs": [],
   "source": [
    "def confu_matrix_plot(y_test, y_pred):\n",
    "    import seaborn as sns\n",
    "    import matplotlib.pyplot as plt\n",
    "    from sklearn.metrics import confusion_matrix,accuracy_score\n",
    "    \n",
    "    conf = confusion_matrix(y_test, y_pred)\n",
    "    name_group = [\"True Positive\", \"False Positive\", \"False Negative\", \"True Negative\"]\n",
    "    percentage_group = [f\"{round(i * 100, 2)} %\" for i in conf.flatten()/np.sum(conf)]\n",
    "    labels = np.array([f\"{i}\\n{j}\\n{k}\" for i,j,k in zip(name_group, conf.flatten(), percentage_group)]).reshape(2, 2)\n",
    "    \n",
    "    print(f\"Acuuracy score : {round(accuracy_score(y_pred, y_test), 2)}\")\n",
    "    sns.set_style(\"white\")\n",
    "    sns.heatmap(conf, annot = labels, fmt = \"\", cmap = \"Blues\")\n",
    "    plt.xlabel(\"Predicted value\", size = 14)\n",
    "    plt.ylabel(\"Actual Value\", size = 14)\n",
    "    plt.title(\"Confusion Matrix\", size = 15, color = \"blue\")"
   ]
  },
  {
   "cell_type": "code",
   "execution_count": 25,
   "id": "d784f398",
   "metadata": {
    "execution": {
     "iopub.execute_input": "2023-03-24T11:10:16.521566Z",
     "iopub.status.busy": "2023-03-24T11:10:16.521152Z",
     "iopub.status.idle": "2023-03-24T11:10:16.854028Z",
     "shell.execute_reply": "2023-03-24T11:10:16.852772Z"
    },
    "papermill": {
     "duration": 0.348323,
     "end_time": "2023-03-24T11:10:16.856884",
     "exception": false,
     "start_time": "2023-03-24T11:10:16.508561",
     "status": "completed"
    },
    "tags": []
   },
   "outputs": [
    {
     "name": "stdout",
     "output_type": "stream",
     "text": [
      "Acuuracy score : 0.87\n"
     ]
    },
    {
     "data": {
      "image/png": "[encoded data removed]",
      "text/plain": [
       "<Figure size 640x480 with 2 Axes>"
      ]
     },
     "metadata": {},
     "output_type": "display_data"
    }
   ],
   "source": [
    "confu_matrix_plot(y_test, y_pred)"
   ]
  },
  {
   "cell_type": "code",
   "execution_count": 26,
   "id": "02800b9c",
   "metadata": {
    "execution": {
     "iopub.execute_input": "2023-03-24T11:10:16.883502Z",
     "iopub.status.busy": "2023-03-24T11:10:16.882724Z",
     "iopub.status.idle": "2023-03-24T11:10:16.889832Z",
     "shell.execute_reply": "2023-03-24T11:10:16.888886Z"
    },
    "papermill": {
     "duration": 0.023257,
     "end_time": "2023-03-24T11:10:16.892116",
     "exception": false,
     "start_time": "2023-03-24T11:10:16.868859",
     "status": "completed"
    },
    "tags": []
   },
   "outputs": [
    {
     "data": {
      "text/plain": [
       "(33516, 2000)"
      ]
     },
     "execution_count": 26,
     "metadata": {},
     "output_type": "execute_result"
    }
   ],
   "source": [
    "x_train.shape"
   ]
  },
  {
   "cell_type": "markdown",
   "id": "09380067",
   "metadata": {
    "papermill": {
     "duration": 0.011629,
     "end_time": "2023-03-24T11:10:16.915551",
     "exception": false,
     "start_time": "2023-03-24T11:10:16.903922",
     "status": "completed"
    },
    "tags": []
   },
   "source": [
    "# ANN Model"
   ]
  },
  {
   "cell_type": "code",
   "execution_count": 27,
   "id": "4f279f1e",
   "metadata": {
    "execution": {
     "iopub.execute_input": "2023-03-24T11:10:16.941994Z",
     "iopub.status.busy": "2023-03-24T11:10:16.941145Z",
     "iopub.status.idle": "2023-03-24T11:10:16.950398Z",
     "shell.execute_reply": "2023-03-24T11:10:16.949436Z"
    },
    "papermill": {
     "duration": 0.025546,
     "end_time": "2023-03-24T11:10:16.952982",
     "exception": false,
     "start_time": "2023-03-24T11:10:16.927436",
     "status": "completed"
    },
    "tags": []
   },
   "outputs": [],
   "source": [
    "def ANN_Model(x_train, x_test, y_train, y_test):\n",
    "    import tensorflow as tf\n",
    "    \n",
    "    model = tf.keras.models.Sequential()\n",
    "    \n",
    "    # Add First Layer (Input Layer)\n",
    "    model.add(tf.keras.layers.Dense(units = 200, activation = \"relu\"))\n",
    "    # Add Second Layers \n",
    "    model.add(tf.keras.layers.Dense(units = 100, activation = \"relu\"))\n",
    "    # Add Third Layers\n",
    "    model.add(tf.keras.layers.Dense(units = 50, activation = \"relu\"))\n",
    "    # Add Fourth Layers\n",
    "    model.add(tf.keras.layers.Dense(units = 25, activation = \"relu\"))\n",
    "    # Add output Layers\n",
    "    model.add(tf.keras.layers.Dense(units = 1, activation = \"sigmoid\"))\n",
    "    \n",
    "    # compile Layers\n",
    "    model.compile(optimizer = \"adam\", loss = \"binary_crossentropy\", metrics = [\"accuracy\"])\n",
    "    \n",
    "    # Train Model\n",
    "    model.fit(x_train, y_train, batch_size = 32, epochs = 10)\n",
    "    \n",
    "    y_pred_ANN = model.predict(x_test)\n",
    "    return y_pred_ANN"
   ]
  },
  {
   "cell_type": "code",
   "execution_count": 28,
   "id": "cbaafaa4",
   "metadata": {
    "execution": {
     "iopub.execute_input": "2023-03-24T11:10:16.979478Z",
     "iopub.status.busy": "2023-03-24T11:10:16.978326Z",
     "iopub.status.idle": "2023-03-24T11:11:52.396338Z",
     "shell.execute_reply": "2023-03-24T11:11:52.394816Z"
    },
    "papermill": {
     "duration": 95.434265,
     "end_time": "2023-03-24T11:11:52.399157",
     "exception": false,
     "start_time": "2023-03-24T11:10:16.964892",
     "status": "completed"
    },
    "tags": []
   },
   "outputs": [
    {
     "name": "stdout",
     "output_type": "stream",
     "text": [
      "Epoch 1/10\n",
      "1048/1048 [==============================] - 7s 6ms/step - loss: 0.0792 - accuracy: 0.9808\n",
      "Epoch 2/10\n",
      "1048/1048 [==============================] - 6s 6ms/step - loss: 0.0148 - accuracy: 0.9957\n",
      "Epoch 3/10\n",
      "1048/1048 [==============================] - 6s 6ms/step - loss: 0.0095 - accuracy: 0.9974\n",
      "Epoch 4/10\n",
      "1048/1048 [==============================] - 6s 6ms/step - loss: 0.0081 - accuracy: 0.9978\n",
      "Epoch 5/10\n",
      "1048/1048 [==============================] - 6s 6ms/step - loss: 0.0060 - accuracy: 0.9983\n",
      "Epoch 6/10\n",
      "1048/1048 [==============================] - 6s 6ms/step - loss: 0.0038 - accuracy: 0.9990\n",
      "Epoch 7/10\n",
      "1048/1048 [==============================] - 6s 6ms/step - loss: 0.0017 - accuracy: 0.9996\n",
      "Epoch 8/10\n",
      "1048/1048 [==============================] - 6s 6ms/step - loss: 0.0057 - accuracy: 0.9985\n",
      "Epoch 9/10\n",
      "1048/1048 [==============================] - 6s 6ms/step - loss: 0.0029 - accuracy: 0.9995\n",
      "Epoch 10/10\n",
      "1048/1048 [==============================] - 6s 6ms/step - loss: 0.0030 - accuracy: 0.9993\n",
      "350/350 [==============================] - 1s 3ms/step\n"
     ]
    }
   ],
   "source": [
    "y_pred_ANN = ANN_Model(x_train, x_test, y_train, y_test)"
   ]
  },
  {
   "cell_type": "code",
   "execution_count": 29,
   "id": "7b42f0d8",
   "metadata": {
    "execution": {
     "iopub.execute_input": "2023-03-24T11:11:52.573694Z",
     "iopub.status.busy": "2023-03-24T11:11:52.572513Z",
     "iopub.status.idle": "2023-03-24T11:11:52.601716Z",
     "shell.execute_reply": "2023-03-24T11:11:52.600699Z"
    },
    "papermill": {
     "duration": 0.118493,
     "end_time": "2023-03-24T11:11:52.604301",
     "exception": false,
     "start_time": "2023-03-24T11:11:52.485808",
     "status": "completed"
    },
    "tags": []
   },
   "outputs": [],
   "source": [
    "y_pred_ANN = y_pred_ANN.flatten()\n",
    "for i,j in enumerate(y_pred_ANN):\n",
    "    if j > 0.5:\n",
    "        y_pred_ANN[i] = 1\n",
    "    else:\n",
    "        y_pred_ANN[i] = 0"
   ]
  },
  {
   "cell_type": "code",
   "execution_count": 30,
   "id": "3679d263",
   "metadata": {
    "execution": {
     "iopub.execute_input": "2023-03-24T11:11:52.777243Z",
     "iopub.status.busy": "2023-03-24T11:11:52.775903Z",
     "iopub.status.idle": "2023-03-24T11:11:53.107142Z",
     "shell.execute_reply": "2023-03-24T11:11:53.105763Z"
    },
    "papermill": {
     "duration": 0.420525,
     "end_time": "2023-03-24T11:11:53.109889",
     "exception": false,
     "start_time": "2023-03-24T11:11:52.689364",
     "status": "completed"
    },
    "tags": []
   },
   "outputs": [
    {
     "name": "stdout",
     "output_type": "stream",
     "text": [
      "Acuuracy score : 0.99\n"
     ]
    },
    {
     "data": {
      "image/png": "[encoded data removed]",
      "text/plain": [
       "<Figure size 640x480 with 2 Axes>"
      ]
     },
     "metadata": {},
     "output_type": "display_data"
    }
   ],
   "source": [
    "confu_matrix_plot(y_test, y_pred_ANN)"
   ]
  }
 ],
 "metadata": {
  "kernelspec": {
   "display_name": "Python 3",
   "language": "python",
   "name": "python3"
  },
  "language_info": {
   "codemirror_mode": {
    "name": "ipython",
    "version": 3
   },
   "file_extension": ".py",
   "mimetype": "text/x-python",
   "name": "python",
   "nbconvert_exporter": "python",
   "pygments_lexer": "ipython3",
   "version": "3.7.12"
  },
  "papermill": {
   "default_parameters": {},
   "duration": 535.929874,
   "end_time": "2023-03-24T11:11:56.274932",
   "environment_variables": {},
   "exception": null,
   "input_path": "__notebook__.ipynb",
   "output_path": "__notebook__.ipynb",
   "parameters": {},
   "start_time": "2023-03-24T11:03:00.345058",
   "version": "2.4.0"
  }
 },
 "nbformat": 4,
 "nbformat_minor": 5
}
