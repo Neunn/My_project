{
 "cells": [
  {
   "cell_type": "markdown",
   "id": "af813618",
   "metadata": {
    "papermill": {
     "duration": 0.010892,
     "end_time": "2023-03-22T17:58:08.014148",
     "exception": false,
     "start_time": "2023-03-22T17:58:08.003256",
     "status": "completed"
    },
    "tags": []
   },
   "source": [
    "# My Flowchart"
   ]
  },
  {
   "cell_type": "markdown",
   "id": "7d30551d",
   "metadata": {
    "papermill": {
     "duration": 0.007666,
     "end_time": "2023-03-22T17:58:08.030122",
     "exception": false,
     "start_time": "2023-03-22T17:58:08.022456",
     "status": "completed"
    },
    "tags": []
   },
   "source": [
    "![](https://imgur.com/B513Ue0.png)"
   ]
  },
  {
   "cell_type": "markdown",
   "id": "7e8664fc",
   "metadata": {
    "papermill": {
     "duration": 0.00792,
     "end_time": "2023-03-22T17:58:08.046821",
     "exception": false,
     "start_time": "2023-03-22T17:58:08.038901",
     "status": "completed"
    },
    "tags": []
   },
   "source": [
    "# Import Library"
   ]
  },
  {
   "cell_type": "code",
   "execution_count": 1,
   "id": "da67e7e0",
   "metadata": {
    "_cell_guid": "b1076dfc-b9ad-4769-8c92-a6c4dae69d19",
    "_uuid": "8f2839f25d086af736a60e9eeb907d3b93b6e0e5",
    "execution": {
     "iopub.execute_input": "2023-03-22T17:58:08.066066Z",
     "iopub.status.busy": "2023-03-22T17:58:08.065368Z",
     "iopub.status.idle": "2023-03-22T17:58:09.373007Z",
     "shell.execute_reply": "2023-03-22T17:58:09.371453Z"
    },
    "papermill": {
     "duration": 1.321553,
     "end_time": "2023-03-22T17:58:09.376680",
     "exception": false,
     "start_time": "2023-03-22T17:58:08.055127",
     "status": "completed"
    },
    "tags": []
   },
   "outputs": [],
   "source": [
    "import pandas as pd\n",
    "import numpy as np\n",
    "import matplotlib.pyplot as plt\n",
    "import seaborn as sns\n",
    "import warnings\n",
    "warnings.filterwarnings(\"ignore\")"
   ]
  },
  {
   "cell_type": "markdown",
   "id": "29d6af39",
   "metadata": {
    "papermill": {
     "duration": 0.007606,
     "end_time": "2023-03-22T17:58:09.392756",
     "exception": false,
     "start_time": "2023-03-22T17:58:09.385150",
     "status": "completed"
    },
    "tags": []
   },
   "source": [
    "# Import Data"
   ]
  },
  {
   "cell_type": "code",
   "execution_count": 2,
   "id": "24edf592",
   "metadata": {
    "execution": {
     "iopub.execute_input": "2023-03-22T17:58:09.413285Z",
     "iopub.status.busy": "2023-03-22T17:58:09.411833Z",
     "iopub.status.idle": "2023-03-22T17:58:14.677980Z",
     "shell.execute_reply": "2023-03-22T17:58:14.675870Z"
    },
    "papermill": {
     "duration": 5.280093,
     "end_time": "2023-03-22T17:58:14.681472",
     "exception": false,
     "start_time": "2023-03-22T17:58:09.401379",
     "status": "completed"
    },
    "tags": []
   },
   "outputs": [],
   "source": [
    "df = pd.read_csv(\"/kaggle/input/creditcardfraud/creditcard.csv\")"
   ]
  },
  {
   "cell_type": "code",
   "execution_count": 3,
   "id": "1614ff0c",
   "metadata": {
    "execution": {
     "iopub.execute_input": "2023-03-22T17:58:14.702349Z",
     "iopub.status.busy": "2023-03-22T17:58:14.701779Z",
     "iopub.status.idle": "2023-03-22T17:58:14.756071Z",
     "shell.execute_reply": "2023-03-22T17:58:14.754567Z"
    },
    "papermill": {
     "duration": 0.068931,
     "end_time": "2023-03-22T17:58:14.759200",
     "exception": false,
     "start_time": "2023-03-22T17:58:14.690269",
     "status": "completed"
    },
    "tags": []
   },
   "outputs": [
    {
     "name": "stdout",
     "output_type": "stream",
     "text": [
      "<class 'pandas.core.frame.DataFrame'>\n",
      "RangeIndex: 284807 entries, 0 to 284806\n",
      "Data columns (total 31 columns):\n",
      " #   Column  Non-Null Count   Dtype  \n",
      "---  ------  --------------   -----  \n",
      " 0   Time    284807 non-null  float64\n",
      " 1   V1      284807 non-null  float64\n",
      " 2   V2      284807 non-null  float64\n",
      " 3   V3      284807 non-null  float64\n",
      " 4   V4      284807 non-null  float64\n",
      " 5   V5      284807 non-null  float64\n",
      " 6   V6      284807 non-null  float64\n",
      " 7   V7      284807 non-null  float64\n",
      " 8   V8      284807 non-null  float64\n",
      " 9   V9      284807 non-null  float64\n",
      " 10  V10     284807 non-null  float64\n",
      " 11  V11     284807 non-null  float64\n",
      " 12  V12     284807 non-null  float64\n",
      " 13  V13     284807 non-null  float64\n",
      " 14  V14     284807 non-null  float64\n",
      " 15  V15     284807 non-null  float64\n",
      " 16  V16     284807 non-null  float64\n",
      " 17  V17     284807 non-null  float64\n",
      " 18  V18     284807 non-null  float64\n",
      " 19  V19     284807 non-null  float64\n",
      " 20  V20     284807 non-null  float64\n",
      " 21  V21     284807 non-null  float64\n",
      " 22  V22     284807 non-null  float64\n",
      " 23  V23     284807 non-null  float64\n",
      " 24  V24     284807 non-null  float64\n",
      " 25  V25     284807 non-null  float64\n",
      " 26  V26     284807 non-null  float64\n",
      " 27  V27     284807 non-null  float64\n",
      " 28  V28     284807 non-null  float64\n",
      " 29  Amount  284807 non-null  float64\n",
      " 30  Class   284807 non-null  int64  \n",
      "dtypes: float64(30), int64(1)\n",
      "memory usage: 67.4 MB\n"
     ]
    }
   ],
   "source": [
    "df.info()"
   ]
  },
  {
   "cell_type": "code",
   "execution_count": 4,
   "id": "0a226bfa",
   "metadata": {
    "execution": {
     "iopub.execute_input": "2023-03-22T17:58:14.781378Z",
     "iopub.status.busy": "2023-03-22T17:58:14.780880Z",
     "iopub.status.idle": "2023-03-22T17:58:14.823852Z",
     "shell.execute_reply": "2023-03-22T17:58:14.822095Z"
    },
    "papermill": {
     "duration": 0.0576,
     "end_time": "2023-03-22T17:58:14.827046",
     "exception": false,
     "start_time": "2023-03-22T17:58:14.769446",
     "status": "completed"
    },
    "tags": []
   },
   "outputs": [
    {
     "data": {
      "text/html": [
       "<div>\n",
       "<style scoped>\n",
       "    .dataframe tbody tr th:only-of-type {\n",
       "        vertical-align: middle;\n",
       "    }\n",
       "\n",
       "    .dataframe tbody tr th {\n",
       "        vertical-align: top;\n",
       "    }\n",
       "\n",
       "    .dataframe thead th {\n",
       "        text-align: right;\n",
       "    }\n",
       "</style>\n",
       "<table border=\"1\" class=\"dataframe\">\n",
       "  <thead>\n",
       "    <tr style=\"text-align: right;\">\n",
       "      <th></th>\n",
       "      <th>Time</th>\n",
       "      <th>V1</th>\n",
       "      <th>V2</th>\n",
       "      <th>V3</th>\n",
       "      <th>V4</th>\n",
       "      <th>V5</th>\n",
       "      <th>V6</th>\n",
       "      <th>V7</th>\n",
       "      <th>V8</th>\n",
       "      <th>V9</th>\n",
       "      <th>...</th>\n",
       "      <th>V21</th>\n",
       "      <th>V22</th>\n",
       "      <th>V23</th>\n",
       "      <th>V24</th>\n",
       "      <th>V25</th>\n",
       "      <th>V26</th>\n",
       "      <th>V27</th>\n",
       "      <th>V28</th>\n",
       "      <th>Amount</th>\n",
       "      <th>Class</th>\n",
       "    </tr>\n",
       "  </thead>\n",
       "  <tbody>\n",
       "    <tr>\n",
       "      <th>0</th>\n",
       "      <td>0.0</td>\n",
       "      <td>-1.359807</td>\n",
       "      <td>-0.072781</td>\n",
       "      <td>2.536347</td>\n",
       "      <td>1.378155</td>\n",
       "      <td>-0.338321</td>\n",
       "      <td>0.462388</td>\n",
       "      <td>0.239599</td>\n",
       "      <td>0.098698</td>\n",
       "      <td>0.363787</td>\n",
       "      <td>...</td>\n",
       "      <td>-0.018307</td>\n",
       "      <td>0.277838</td>\n",
       "      <td>-0.110474</td>\n",
       "      <td>0.066928</td>\n",
       "      <td>0.128539</td>\n",
       "      <td>-0.189115</td>\n",
       "      <td>0.133558</td>\n",
       "      <td>-0.021053</td>\n",
       "      <td>149.62</td>\n",
       "      <td>0</td>\n",
       "    </tr>\n",
       "    <tr>\n",
       "      <th>1</th>\n",
       "      <td>0.0</td>\n",
       "      <td>1.191857</td>\n",
       "      <td>0.266151</td>\n",
       "      <td>0.166480</td>\n",
       "      <td>0.448154</td>\n",
       "      <td>0.060018</td>\n",
       "      <td>-0.082361</td>\n",
       "      <td>-0.078803</td>\n",
       "      <td>0.085102</td>\n",
       "      <td>-0.255425</td>\n",
       "      <td>...</td>\n",
       "      <td>-0.225775</td>\n",
       "      <td>-0.638672</td>\n",
       "      <td>0.101288</td>\n",
       "      <td>-0.339846</td>\n",
       "      <td>0.167170</td>\n",
       "      <td>0.125895</td>\n",
       "      <td>-0.008983</td>\n",
       "      <td>0.014724</td>\n",
       "      <td>2.69</td>\n",
       "      <td>0</td>\n",
       "    </tr>\n",
       "    <tr>\n",
       "      <th>2</th>\n",
       "      <td>1.0</td>\n",
       "      <td>-1.358354</td>\n",
       "      <td>-1.340163</td>\n",
       "      <td>1.773209</td>\n",
       "      <td>0.379780</td>\n",
       "      <td>-0.503198</td>\n",
       "      <td>1.800499</td>\n",
       "      <td>0.791461</td>\n",
       "      <td>0.247676</td>\n",
       "      <td>-1.514654</td>\n",
       "      <td>...</td>\n",
       "      <td>0.247998</td>\n",
       "      <td>0.771679</td>\n",
       "      <td>0.909412</td>\n",
       "      <td>-0.689281</td>\n",
       "      <td>-0.327642</td>\n",
       "      <td>-0.139097</td>\n",
       "      <td>-0.055353</td>\n",
       "      <td>-0.059752</td>\n",
       "      <td>378.66</td>\n",
       "      <td>0</td>\n",
       "    </tr>\n",
       "    <tr>\n",
       "      <th>3</th>\n",
       "      <td>1.0</td>\n",
       "      <td>-0.966272</td>\n",
       "      <td>-0.185226</td>\n",
       "      <td>1.792993</td>\n",
       "      <td>-0.863291</td>\n",
       "      <td>-0.010309</td>\n",
       "      <td>1.247203</td>\n",
       "      <td>0.237609</td>\n",
       "      <td>0.377436</td>\n",
       "      <td>-1.387024</td>\n",
       "      <td>...</td>\n",
       "      <td>-0.108300</td>\n",
       "      <td>0.005274</td>\n",
       "      <td>-0.190321</td>\n",
       "      <td>-1.175575</td>\n",
       "      <td>0.647376</td>\n",
       "      <td>-0.221929</td>\n",
       "      <td>0.062723</td>\n",
       "      <td>0.061458</td>\n",
       "      <td>123.50</td>\n",
       "      <td>0</td>\n",
       "    </tr>\n",
       "    <tr>\n",
       "      <th>4</th>\n",
       "      <td>2.0</td>\n",
       "      <td>-1.158233</td>\n",
       "      <td>0.877737</td>\n",
       "      <td>1.548718</td>\n",
       "      <td>0.403034</td>\n",
       "      <td>-0.407193</td>\n",
       "      <td>0.095921</td>\n",
       "      <td>0.592941</td>\n",
       "      <td>-0.270533</td>\n",
       "      <td>0.817739</td>\n",
       "      <td>...</td>\n",
       "      <td>-0.009431</td>\n",
       "      <td>0.798278</td>\n",
       "      <td>-0.137458</td>\n",
       "      <td>0.141267</td>\n",
       "      <td>-0.206010</td>\n",
       "      <td>0.502292</td>\n",
       "      <td>0.219422</td>\n",
       "      <td>0.215153</td>\n",
       "      <td>69.99</td>\n",
       "      <td>0</td>\n",
       "    </tr>\n",
       "  </tbody>\n",
       "</table>\n",
       "<p>5 rows × 31 columns</p>\n",
       "</div>"
      ],
      "text/plain": [
       "   Time        V1        V2        V3        V4        V5        V6        V7  \\\n",
       "0   0.0 -1.359807 -0.072781  2.536347  1.378155 -0.338321  0.462388  0.239599   \n",
       "1   0.0  1.191857  0.266151  0.166480  0.448154  0.060018 -0.082361 -0.078803   \n",
       "2   1.0 -1.358354 -1.340163  1.773209  0.379780 -0.503198  1.800499  0.791461   \n",
       "3   1.0 -0.966272 -0.185226  1.792993 -0.863291 -0.010309  1.247203  0.237609   \n",
       "4   2.0 -1.158233  0.877737  1.548718  0.403034 -0.407193  0.095921  0.592941   \n",
       "\n",
       "         V8        V9  ...       V21       V22       V23       V24       V25  \\\n",
       "0  0.098698  0.363787  ... -0.018307  0.277838 -0.110474  0.066928  0.128539   \n",
       "1  0.085102 -0.255425  ... -0.225775 -0.638672  0.101288 -0.339846  0.167170   \n",
       "2  0.247676 -1.514654  ...  0.247998  0.771679  0.909412 -0.689281 -0.327642   \n",
       "3  0.377436 -1.387024  ... -0.108300  0.005274 -0.190321 -1.175575  0.647376   \n",
       "4 -0.270533  0.817739  ... -0.009431  0.798278 -0.137458  0.141267 -0.206010   \n",
       "\n",
       "        V26       V27       V28  Amount  Class  \n",
       "0 -0.189115  0.133558 -0.021053  149.62      0  \n",
       "1  0.125895 -0.008983  0.014724    2.69      0  \n",
       "2 -0.139097 -0.055353 -0.059752  378.66      0  \n",
       "3 -0.221929  0.062723  0.061458  123.50      0  \n",
       "4  0.502292  0.219422  0.215153   69.99      0  \n",
       "\n",
       "[5 rows x 31 columns]"
      ]
     },
     "execution_count": 4,
     "metadata": {},
     "output_type": "execute_result"
    }
   ],
   "source": [
    "df.head()"
   ]
  },
  {
   "cell_type": "code",
   "execution_count": 5,
   "id": "53e77c86",
   "metadata": {
    "execution": {
     "iopub.execute_input": "2023-03-22T17:58:14.847960Z",
     "iopub.status.busy": "2023-03-22T17:58:14.847439Z",
     "iopub.status.idle": "2023-03-22T17:58:14.877082Z",
     "shell.execute_reply": "2023-03-22T17:58:14.875593Z"
    },
    "papermill": {
     "duration": 0.044265,
     "end_time": "2023-03-22T17:58:14.880063",
     "exception": false,
     "start_time": "2023-03-22T17:58:14.835798",
     "status": "completed"
    },
    "tags": []
   },
   "outputs": [
    {
     "data": {
      "text/plain": [
       "Time      0\n",
       "V1        0\n",
       "V2        0\n",
       "V3        0\n",
       "V4        0\n",
       "V5        0\n",
       "V6        0\n",
       "V7        0\n",
       "V8        0\n",
       "V9        0\n",
       "V10       0\n",
       "V11       0\n",
       "V12       0\n",
       "V13       0\n",
       "V14       0\n",
       "V15       0\n",
       "V16       0\n",
       "V17       0\n",
       "V18       0\n",
       "V19       0\n",
       "V20       0\n",
       "V21       0\n",
       "V22       0\n",
       "V23       0\n",
       "V24       0\n",
       "V25       0\n",
       "V26       0\n",
       "V27       0\n",
       "V28       0\n",
       "Amount    0\n",
       "Class     0\n",
       "dtype: int64"
      ]
     },
     "execution_count": 5,
     "metadata": {},
     "output_type": "execute_result"
    }
   ],
   "source": [
    "df.isna().sum()"
   ]
  },
  {
   "cell_type": "code",
   "execution_count": 6,
   "id": "6da47fa0",
   "metadata": {
    "execution": {
     "iopub.execute_input": "2023-03-22T17:58:14.899953Z",
     "iopub.status.busy": "2023-03-22T17:58:14.899452Z",
     "iopub.status.idle": "2023-03-22T17:58:15.457445Z",
     "shell.execute_reply": "2023-03-22T17:58:15.455572Z"
    },
    "papermill": {
     "duration": 0.572225,
     "end_time": "2023-03-22T17:58:15.461092",
     "exception": false,
     "start_time": "2023-03-22T17:58:14.888867",
     "status": "completed"
    },
    "tags": []
   },
   "outputs": [
    {
     "data": {
      "text/html": [
       "<div>\n",
       "<style scoped>\n",
       "    .dataframe tbody tr th:only-of-type {\n",
       "        vertical-align: middle;\n",
       "    }\n",
       "\n",
       "    .dataframe tbody tr th {\n",
       "        vertical-align: top;\n",
       "    }\n",
       "\n",
       "    .dataframe thead th {\n",
       "        text-align: right;\n",
       "    }\n",
       "</style>\n",
       "<table border=\"1\" class=\"dataframe\">\n",
       "  <thead>\n",
       "    <tr style=\"text-align: right;\">\n",
       "      <th></th>\n",
       "      <th>Time</th>\n",
       "      <th>V1</th>\n",
       "      <th>V2</th>\n",
       "      <th>V3</th>\n",
       "      <th>V4</th>\n",
       "      <th>V5</th>\n",
       "      <th>V6</th>\n",
       "      <th>V7</th>\n",
       "      <th>V8</th>\n",
       "      <th>V9</th>\n",
       "      <th>...</th>\n",
       "      <th>V21</th>\n",
       "      <th>V22</th>\n",
       "      <th>V23</th>\n",
       "      <th>V24</th>\n",
       "      <th>V25</th>\n",
       "      <th>V26</th>\n",
       "      <th>V27</th>\n",
       "      <th>V28</th>\n",
       "      <th>Amount</th>\n",
       "      <th>Class</th>\n",
       "    </tr>\n",
       "  </thead>\n",
       "  <tbody>\n",
       "    <tr>\n",
       "      <th>count</th>\n",
       "      <td>284807.000000</td>\n",
       "      <td>2.848070e+05</td>\n",
       "      <td>2.848070e+05</td>\n",
       "      <td>2.848070e+05</td>\n",
       "      <td>2.848070e+05</td>\n",
       "      <td>2.848070e+05</td>\n",
       "      <td>2.848070e+05</td>\n",
       "      <td>2.848070e+05</td>\n",
       "      <td>2.848070e+05</td>\n",
       "      <td>2.848070e+05</td>\n",
       "      <td>...</td>\n",
       "      <td>2.848070e+05</td>\n",
       "      <td>2.848070e+05</td>\n",
       "      <td>2.848070e+05</td>\n",
       "      <td>2.848070e+05</td>\n",
       "      <td>2.848070e+05</td>\n",
       "      <td>2.848070e+05</td>\n",
       "      <td>2.848070e+05</td>\n",
       "      <td>2.848070e+05</td>\n",
       "      <td>284807.000000</td>\n",
       "      <td>284807.000000</td>\n",
       "    </tr>\n",
       "    <tr>\n",
       "      <th>mean</th>\n",
       "      <td>94813.859575</td>\n",
       "      <td>1.168375e-15</td>\n",
       "      <td>3.416908e-16</td>\n",
       "      <td>-1.379537e-15</td>\n",
       "      <td>2.074095e-15</td>\n",
       "      <td>9.604066e-16</td>\n",
       "      <td>1.487313e-15</td>\n",
       "      <td>-5.556467e-16</td>\n",
       "      <td>1.213481e-16</td>\n",
       "      <td>-2.406331e-15</td>\n",
       "      <td>...</td>\n",
       "      <td>1.654067e-16</td>\n",
       "      <td>-3.568593e-16</td>\n",
       "      <td>2.578648e-16</td>\n",
       "      <td>4.473266e-15</td>\n",
       "      <td>5.340915e-16</td>\n",
       "      <td>1.683437e-15</td>\n",
       "      <td>-3.660091e-16</td>\n",
       "      <td>-1.227390e-16</td>\n",
       "      <td>88.349619</td>\n",
       "      <td>0.001727</td>\n",
       "    </tr>\n",
       "    <tr>\n",
       "      <th>std</th>\n",
       "      <td>47488.145955</td>\n",
       "      <td>1.958696e+00</td>\n",
       "      <td>1.651309e+00</td>\n",
       "      <td>1.516255e+00</td>\n",
       "      <td>1.415869e+00</td>\n",
       "      <td>1.380247e+00</td>\n",
       "      <td>1.332271e+00</td>\n",
       "      <td>1.237094e+00</td>\n",
       "      <td>1.194353e+00</td>\n",
       "      <td>1.098632e+00</td>\n",
       "      <td>...</td>\n",
       "      <td>7.345240e-01</td>\n",
       "      <td>7.257016e-01</td>\n",
       "      <td>6.244603e-01</td>\n",
       "      <td>6.056471e-01</td>\n",
       "      <td>5.212781e-01</td>\n",
       "      <td>4.822270e-01</td>\n",
       "      <td>4.036325e-01</td>\n",
       "      <td>3.300833e-01</td>\n",
       "      <td>250.120109</td>\n",
       "      <td>0.041527</td>\n",
       "    </tr>\n",
       "    <tr>\n",
       "      <th>min</th>\n",
       "      <td>0.000000</td>\n",
       "      <td>-5.640751e+01</td>\n",
       "      <td>-7.271573e+01</td>\n",
       "      <td>-4.832559e+01</td>\n",
       "      <td>-5.683171e+00</td>\n",
       "      <td>-1.137433e+02</td>\n",
       "      <td>-2.616051e+01</td>\n",
       "      <td>-4.355724e+01</td>\n",
       "      <td>-7.321672e+01</td>\n",
       "      <td>-1.343407e+01</td>\n",
       "      <td>...</td>\n",
       "      <td>-3.483038e+01</td>\n",
       "      <td>-1.093314e+01</td>\n",
       "      <td>-4.480774e+01</td>\n",
       "      <td>-2.836627e+00</td>\n",
       "      <td>-1.029540e+01</td>\n",
       "      <td>-2.604551e+00</td>\n",
       "      <td>-2.256568e+01</td>\n",
       "      <td>-1.543008e+01</td>\n",
       "      <td>0.000000</td>\n",
       "      <td>0.000000</td>\n",
       "    </tr>\n",
       "    <tr>\n",
       "      <th>25%</th>\n",
       "      <td>54201.500000</td>\n",
       "      <td>-9.203734e-01</td>\n",
       "      <td>-5.985499e-01</td>\n",
       "      <td>-8.903648e-01</td>\n",
       "      <td>-8.486401e-01</td>\n",
       "      <td>-6.915971e-01</td>\n",
       "      <td>-7.682956e-01</td>\n",
       "      <td>-5.540759e-01</td>\n",
       "      <td>-2.086297e-01</td>\n",
       "      <td>-6.430976e-01</td>\n",
       "      <td>...</td>\n",
       "      <td>-2.283949e-01</td>\n",
       "      <td>-5.423504e-01</td>\n",
       "      <td>-1.618463e-01</td>\n",
       "      <td>-3.545861e-01</td>\n",
       "      <td>-3.171451e-01</td>\n",
       "      <td>-3.269839e-01</td>\n",
       "      <td>-7.083953e-02</td>\n",
       "      <td>-5.295979e-02</td>\n",
       "      <td>5.600000</td>\n",
       "      <td>0.000000</td>\n",
       "    </tr>\n",
       "    <tr>\n",
       "      <th>50%</th>\n",
       "      <td>84692.000000</td>\n",
       "      <td>1.810880e-02</td>\n",
       "      <td>6.548556e-02</td>\n",
       "      <td>1.798463e-01</td>\n",
       "      <td>-1.984653e-02</td>\n",
       "      <td>-5.433583e-02</td>\n",
       "      <td>-2.741871e-01</td>\n",
       "      <td>4.010308e-02</td>\n",
       "      <td>2.235804e-02</td>\n",
       "      <td>-5.142873e-02</td>\n",
       "      <td>...</td>\n",
       "      <td>-2.945017e-02</td>\n",
       "      <td>6.781943e-03</td>\n",
       "      <td>-1.119293e-02</td>\n",
       "      <td>4.097606e-02</td>\n",
       "      <td>1.659350e-02</td>\n",
       "      <td>-5.213911e-02</td>\n",
       "      <td>1.342146e-03</td>\n",
       "      <td>1.124383e-02</td>\n",
       "      <td>22.000000</td>\n",
       "      <td>0.000000</td>\n",
       "    </tr>\n",
       "    <tr>\n",
       "      <th>75%</th>\n",
       "      <td>139320.500000</td>\n",
       "      <td>1.315642e+00</td>\n",
       "      <td>8.037239e-01</td>\n",
       "      <td>1.027196e+00</td>\n",
       "      <td>7.433413e-01</td>\n",
       "      <td>6.119264e-01</td>\n",
       "      <td>3.985649e-01</td>\n",
       "      <td>5.704361e-01</td>\n",
       "      <td>3.273459e-01</td>\n",
       "      <td>5.971390e-01</td>\n",
       "      <td>...</td>\n",
       "      <td>1.863772e-01</td>\n",
       "      <td>5.285536e-01</td>\n",
       "      <td>1.476421e-01</td>\n",
       "      <td>4.395266e-01</td>\n",
       "      <td>3.507156e-01</td>\n",
       "      <td>2.409522e-01</td>\n",
       "      <td>9.104512e-02</td>\n",
       "      <td>7.827995e-02</td>\n",
       "      <td>77.165000</td>\n",
       "      <td>0.000000</td>\n",
       "    </tr>\n",
       "    <tr>\n",
       "      <th>max</th>\n",
       "      <td>172792.000000</td>\n",
       "      <td>2.454930e+00</td>\n",
       "      <td>2.205773e+01</td>\n",
       "      <td>9.382558e+00</td>\n",
       "      <td>1.687534e+01</td>\n",
       "      <td>3.480167e+01</td>\n",
       "      <td>7.330163e+01</td>\n",
       "      <td>1.205895e+02</td>\n",
       "      <td>2.000721e+01</td>\n",
       "      <td>1.559499e+01</td>\n",
       "      <td>...</td>\n",
       "      <td>2.720284e+01</td>\n",
       "      <td>1.050309e+01</td>\n",
       "      <td>2.252841e+01</td>\n",
       "      <td>4.584549e+00</td>\n",
       "      <td>7.519589e+00</td>\n",
       "      <td>3.517346e+00</td>\n",
       "      <td>3.161220e+01</td>\n",
       "      <td>3.384781e+01</td>\n",
       "      <td>25691.160000</td>\n",
       "      <td>1.000000</td>\n",
       "    </tr>\n",
       "  </tbody>\n",
       "</table>\n",
       "<p>8 rows × 31 columns</p>\n",
       "</div>"
      ],
      "text/plain": [
       "                Time            V1            V2            V3            V4  \\\n",
       "count  284807.000000  2.848070e+05  2.848070e+05  2.848070e+05  2.848070e+05   \n",
       "mean    94813.859575  1.168375e-15  3.416908e-16 -1.379537e-15  2.074095e-15   \n",
       "std     47488.145955  1.958696e+00  1.651309e+00  1.516255e+00  1.415869e+00   \n",
       "min         0.000000 -5.640751e+01 -7.271573e+01 -4.832559e+01 -5.683171e+00   \n",
       "25%     54201.500000 -9.203734e-01 -5.985499e-01 -8.903648e-01 -8.486401e-01   \n",
       "50%     84692.000000  1.810880e-02  6.548556e-02  1.798463e-01 -1.984653e-02   \n",
       "75%    139320.500000  1.315642e+00  8.037239e-01  1.027196e+00  7.433413e-01   \n",
       "max    172792.000000  2.454930e+00  2.205773e+01  9.382558e+00  1.687534e+01   \n",
       "\n",
       "                 V5            V6            V7            V8            V9  \\\n",
       "count  2.848070e+05  2.848070e+05  2.848070e+05  2.848070e+05  2.848070e+05   \n",
       "mean   9.604066e-16  1.487313e-15 -5.556467e-16  1.213481e-16 -2.406331e-15   \n",
       "std    1.380247e+00  1.332271e+00  1.237094e+00  1.194353e+00  1.098632e+00   \n",
       "min   -1.137433e+02 -2.616051e+01 -4.355724e+01 -7.321672e+01 -1.343407e+01   \n",
       "25%   -6.915971e-01 -7.682956e-01 -5.540759e-01 -2.086297e-01 -6.430976e-01   \n",
       "50%   -5.433583e-02 -2.741871e-01  4.010308e-02  2.235804e-02 -5.142873e-02   \n",
       "75%    6.119264e-01  3.985649e-01  5.704361e-01  3.273459e-01  5.971390e-01   \n",
       "max    3.480167e+01  7.330163e+01  1.205895e+02  2.000721e+01  1.559499e+01   \n",
       "\n",
       "       ...           V21           V22           V23           V24  \\\n",
       "count  ...  2.848070e+05  2.848070e+05  2.848070e+05  2.848070e+05   \n",
       "mean   ...  1.654067e-16 -3.568593e-16  2.578648e-16  4.473266e-15   \n",
       "std    ...  7.345240e-01  7.257016e-01  6.244603e-01  6.056471e-01   \n",
       "min    ... -3.483038e+01 -1.093314e+01 -4.480774e+01 -2.836627e+00   \n",
       "25%    ... -2.283949e-01 -5.423504e-01 -1.618463e-01 -3.545861e-01   \n",
       "50%    ... -2.945017e-02  6.781943e-03 -1.119293e-02  4.097606e-02   \n",
       "75%    ...  1.863772e-01  5.285536e-01  1.476421e-01  4.395266e-01   \n",
       "max    ...  2.720284e+01  1.050309e+01  2.252841e+01  4.584549e+00   \n",
       "\n",
       "                V25           V26           V27           V28         Amount  \\\n",
       "count  2.848070e+05  2.848070e+05  2.848070e+05  2.848070e+05  284807.000000   \n",
       "mean   5.340915e-16  1.683437e-15 -3.660091e-16 -1.227390e-16      88.349619   \n",
       "std    5.212781e-01  4.822270e-01  4.036325e-01  3.300833e-01     250.120109   \n",
       "min   -1.029540e+01 -2.604551e+00 -2.256568e+01 -1.543008e+01       0.000000   \n",
       "25%   -3.171451e-01 -3.269839e-01 -7.083953e-02 -5.295979e-02       5.600000   \n",
       "50%    1.659350e-02 -5.213911e-02  1.342146e-03  1.124383e-02      22.000000   \n",
       "75%    3.507156e-01  2.409522e-01  9.104512e-02  7.827995e-02      77.165000   \n",
       "max    7.519589e+00  3.517346e+00  3.161220e+01  3.384781e+01   25691.160000   \n",
       "\n",
       "               Class  \n",
       "count  284807.000000  \n",
       "mean        0.001727  \n",
       "std         0.041527  \n",
       "min         0.000000  \n",
       "25%         0.000000  \n",
       "50%         0.000000  \n",
       "75%         0.000000  \n",
       "max         1.000000  \n",
       "\n",
       "[8 rows x 31 columns]"
      ]
     },
     "execution_count": 6,
     "metadata": {},
     "output_type": "execute_result"
    }
   ],
   "source": [
    "df.describe()"
   ]
  },
  {
   "cell_type": "code",
   "execution_count": 7,
   "id": "be4fd89e",
   "metadata": {
    "execution": {
     "iopub.execute_input": "2023-03-22T17:58:15.483933Z",
     "iopub.status.busy": "2023-03-22T17:58:15.483436Z",
     "iopub.status.idle": "2023-03-22T17:58:15.501649Z",
     "shell.execute_reply": "2023-03-22T17:58:15.499699Z"
    },
    "papermill": {
     "duration": 0.034045,
     "end_time": "2023-03-22T17:58:15.504640",
     "exception": false,
     "start_time": "2023-03-22T17:58:15.470595",
     "status": "completed"
    },
    "tags": []
   },
   "outputs": [
    {
     "data": {
      "text/html": [
       "<div>\n",
       "<style scoped>\n",
       "    .dataframe tbody tr th:only-of-type {\n",
       "        vertical-align: middle;\n",
       "    }\n",
       "\n",
       "    .dataframe tbody tr th {\n",
       "        vertical-align: top;\n",
       "    }\n",
       "\n",
       "    .dataframe thead th {\n",
       "        text-align: right;\n",
       "    }\n",
       "</style>\n",
       "<table border=\"1\" class=\"dataframe\">\n",
       "  <thead>\n",
       "    <tr style=\"text-align: right;\">\n",
       "      <th></th>\n",
       "      <th>Amount</th>\n",
       "    </tr>\n",
       "  </thead>\n",
       "  <tbody>\n",
       "    <tr>\n",
       "      <th>0</th>\n",
       "      <td>149.62</td>\n",
       "    </tr>\n",
       "    <tr>\n",
       "      <th>1</th>\n",
       "      <td>2.69</td>\n",
       "    </tr>\n",
       "    <tr>\n",
       "      <th>2</th>\n",
       "      <td>378.66</td>\n",
       "    </tr>\n",
       "    <tr>\n",
       "      <th>3</th>\n",
       "      <td>123.50</td>\n",
       "    </tr>\n",
       "    <tr>\n",
       "      <th>4</th>\n",
       "      <td>69.99</td>\n",
       "    </tr>\n",
       "    <tr>\n",
       "      <th>...</th>\n",
       "      <td>...</td>\n",
       "    </tr>\n",
       "    <tr>\n",
       "      <th>284802</th>\n",
       "      <td>0.77</td>\n",
       "    </tr>\n",
       "    <tr>\n",
       "      <th>284803</th>\n",
       "      <td>24.79</td>\n",
       "    </tr>\n",
       "    <tr>\n",
       "      <th>284804</th>\n",
       "      <td>67.88</td>\n",
       "    </tr>\n",
       "    <tr>\n",
       "      <th>284805</th>\n",
       "      <td>10.00</td>\n",
       "    </tr>\n",
       "    <tr>\n",
       "      <th>284806</th>\n",
       "      <td>217.00</td>\n",
       "    </tr>\n",
       "  </tbody>\n",
       "</table>\n",
       "<p>284807 rows × 1 columns</p>\n",
       "</div>"
      ],
      "text/plain": [
       "        Amount\n",
       "0       149.62\n",
       "1         2.69\n",
       "2       378.66\n",
       "3       123.50\n",
       "4        69.99\n",
       "...        ...\n",
       "284802    0.77\n",
       "284803   24.79\n",
       "284804   67.88\n",
       "284805   10.00\n",
       "284806  217.00\n",
       "\n",
       "[284807 rows x 1 columns]"
      ]
     },
     "execution_count": 7,
     "metadata": {},
     "output_type": "execute_result"
    }
   ],
   "source": [
    "df[[\"Amount\"]]"
   ]
  },
  {
   "cell_type": "code",
   "execution_count": 8,
   "id": "4d79a818",
   "metadata": {
    "execution": {
     "iopub.execute_input": "2023-03-22T17:58:15.528160Z",
     "iopub.status.busy": "2023-03-22T17:58:15.527615Z",
     "iopub.status.idle": "2023-03-22T17:58:15.545782Z",
     "shell.execute_reply": "2023-03-22T17:58:15.544468Z"
    },
    "papermill": {
     "duration": 0.034855,
     "end_time": "2023-03-22T17:58:15.549167",
     "exception": false,
     "start_time": "2023-03-22T17:58:15.514312",
     "status": "completed"
    },
    "tags": []
   },
   "outputs": [
    {
     "data": {
      "text/html": [
       "<div>\n",
       "<style scoped>\n",
       "    .dataframe tbody tr th:only-of-type {\n",
       "        vertical-align: middle;\n",
       "    }\n",
       "\n",
       "    .dataframe tbody tr th {\n",
       "        vertical-align: top;\n",
       "    }\n",
       "\n",
       "    .dataframe thead th {\n",
       "        text-align: right;\n",
       "    }\n",
       "</style>\n",
       "<table border=\"1\" class=\"dataframe\">\n",
       "  <thead>\n",
       "    <tr style=\"text-align: right;\">\n",
       "      <th></th>\n",
       "      <th>Class</th>\n",
       "    </tr>\n",
       "  </thead>\n",
       "  <tbody>\n",
       "    <tr>\n",
       "      <th>0</th>\n",
       "      <td>0</td>\n",
       "    </tr>\n",
       "    <tr>\n",
       "      <th>1</th>\n",
       "      <td>0</td>\n",
       "    </tr>\n",
       "    <tr>\n",
       "      <th>2</th>\n",
       "      <td>0</td>\n",
       "    </tr>\n",
       "    <tr>\n",
       "      <th>3</th>\n",
       "      <td>0</td>\n",
       "    </tr>\n",
       "    <tr>\n",
       "      <th>4</th>\n",
       "      <td>0</td>\n",
       "    </tr>\n",
       "    <tr>\n",
       "      <th>...</th>\n",
       "      <td>...</td>\n",
       "    </tr>\n",
       "    <tr>\n",
       "      <th>284802</th>\n",
       "      <td>0</td>\n",
       "    </tr>\n",
       "    <tr>\n",
       "      <th>284803</th>\n",
       "      <td>0</td>\n",
       "    </tr>\n",
       "    <tr>\n",
       "      <th>284804</th>\n",
       "      <td>0</td>\n",
       "    </tr>\n",
       "    <tr>\n",
       "      <th>284805</th>\n",
       "      <td>0</td>\n",
       "    </tr>\n",
       "    <tr>\n",
       "      <th>284806</th>\n",
       "      <td>0</td>\n",
       "    </tr>\n",
       "  </tbody>\n",
       "</table>\n",
       "<p>284807 rows × 1 columns</p>\n",
       "</div>"
      ],
      "text/plain": [
       "        Class\n",
       "0           0\n",
       "1           0\n",
       "2           0\n",
       "3           0\n",
       "4           0\n",
       "...       ...\n",
       "284802      0\n",
       "284803      0\n",
       "284804      0\n",
       "284805      0\n",
       "284806      0\n",
       "\n",
       "[284807 rows x 1 columns]"
      ]
     },
     "execution_count": 8,
     "metadata": {},
     "output_type": "execute_result"
    }
   ],
   "source": [
    "df[[\"Class\"]]"
   ]
  },
  {
   "cell_type": "code",
   "execution_count": 9,
   "id": "084aaea8",
   "metadata": {
    "execution": {
     "iopub.execute_input": "2023-03-22T17:58:15.571656Z",
     "iopub.status.busy": "2023-03-22T17:58:15.570347Z",
     "iopub.status.idle": "2023-03-22T17:58:15.592267Z",
     "shell.execute_reply": "2023-03-22T17:58:15.589972Z"
    },
    "papermill": {
     "duration": 0.036832,
     "end_time": "2023-03-22T17:58:15.595735",
     "exception": false,
     "start_time": "2023-03-22T17:58:15.558903",
     "status": "completed"
    },
    "tags": []
   },
   "outputs": [],
   "source": [
    "df_class_count = df.groupby(by = \"Class\")[[\"Class\"]].count().rename({\"Class\" : \"Count\"}, axis = 1)"
   ]
  },
  {
   "cell_type": "code",
   "execution_count": 10,
   "id": "fffe837f",
   "metadata": {
    "execution": {
     "iopub.execute_input": "2023-03-22T17:58:15.619209Z",
     "iopub.status.busy": "2023-03-22T17:58:15.618678Z",
     "iopub.status.idle": "2023-03-22T17:58:15.630073Z",
     "shell.execute_reply": "2023-03-22T17:58:15.628588Z"
    },
    "papermill": {
     "duration": 0.026647,
     "end_time": "2023-03-22T17:58:15.633242",
     "exception": false,
     "start_time": "2023-03-22T17:58:15.606595",
     "status": "completed"
    },
    "tags": []
   },
   "outputs": [
    {
     "data": {
      "text/html": [
       "<div>\n",
       "<style scoped>\n",
       "    .dataframe tbody tr th:only-of-type {\n",
       "        vertical-align: middle;\n",
       "    }\n",
       "\n",
       "    .dataframe tbody tr th {\n",
       "        vertical-align: top;\n",
       "    }\n",
       "\n",
       "    .dataframe thead th {\n",
       "        text-align: right;\n",
       "    }\n",
       "</style>\n",
       "<table border=\"1\" class=\"dataframe\">\n",
       "  <thead>\n",
       "    <tr style=\"text-align: right;\">\n",
       "      <th></th>\n",
       "      <th>Count</th>\n",
       "    </tr>\n",
       "    <tr>\n",
       "      <th>Class</th>\n",
       "      <th></th>\n",
       "    </tr>\n",
       "  </thead>\n",
       "  <tbody>\n",
       "    <tr>\n",
       "      <th>0</th>\n",
       "      <td>284315</td>\n",
       "    </tr>\n",
       "    <tr>\n",
       "      <th>1</th>\n",
       "      <td>492</td>\n",
       "    </tr>\n",
       "  </tbody>\n",
       "</table>\n",
       "</div>"
      ],
      "text/plain": [
       "        Count\n",
       "Class        \n",
       "0      284315\n",
       "1         492"
      ]
     },
     "execution_count": 10,
     "metadata": {},
     "output_type": "execute_result"
    }
   ],
   "source": [
    "df_class_count"
   ]
  },
  {
   "cell_type": "code",
   "execution_count": 11,
   "id": "c681a76f",
   "metadata": {
    "execution": {
     "iopub.execute_input": "2023-03-22T17:58:15.655909Z",
     "iopub.status.busy": "2023-03-22T17:58:15.654794Z",
     "iopub.status.idle": "2023-03-22T17:58:15.977218Z",
     "shell.execute_reply": "2023-03-22T17:58:15.975494Z"
    },
    "papermill": {
     "duration": 0.337626,
     "end_time": "2023-03-22T17:58:15.980710",
     "exception": false,
     "start_time": "2023-03-22T17:58:15.643084",
     "status": "completed"
    },
    "tags": []
   },
   "outputs": [
    {
     "data": {
      "text/plain": [
       "Text(0.5, 1.0, 'Count Plot')"
      ]
     },
     "execution_count": 11,
     "metadata": {},
     "output_type": "execute_result"
    },
    {
     "data": {
      "image/png": "[encoded data removed]",
      "text/plain": [
       "<Figure size 1500x500 with 1 Axes>"
      ]
     },
     "metadata": {},
     "output_type": "display_data"
    }
   ],
   "source": [
    "plt.figure(figsize = (15, 5))\n",
    "sns.set_style(\"whitegrid\")\n",
    "ax = sns.barplot(x = df_class_count.index.values, y = df_class_count[\"Count\"].values, width = 0.3)\n",
    "for i in ax.containers:\n",
    "    ax.bar_label(i, )\n",
    "plt.title(\"Count Plot\")"
   ]
  },
  {
   "cell_type": "markdown",
   "id": "9680b377",
   "metadata": {
    "papermill": {
     "duration": 0.010374,
     "end_time": "2023-03-22T17:58:16.004442",
     "exception": false,
     "start_time": "2023-03-22T17:58:15.994068",
     "status": "completed"
    },
    "tags": []
   },
   "source": [
    "# Split Data"
   ]
  },
  {
   "cell_type": "code",
   "execution_count": 12,
   "id": "cd6680e0",
   "metadata": {
    "execution": {
     "iopub.execute_input": "2023-03-22T17:58:16.030457Z",
     "iopub.status.busy": "2023-03-22T17:58:16.029958Z",
     "iopub.status.idle": "2023-03-22T17:58:16.306382Z",
     "shell.execute_reply": "2023-03-22T17:58:16.304438Z"
    },
    "papermill": {
     "duration": 0.293008,
     "end_time": "2023-03-22T17:58:16.310043",
     "exception": false,
     "start_time": "2023-03-22T17:58:16.017035",
     "status": "completed"
    },
    "tags": []
   },
   "outputs": [],
   "source": [
    "from sklearn.model_selection import train_test_split"
   ]
  },
  {
   "cell_type": "code",
   "execution_count": 13,
   "id": "198bcdac",
   "metadata": {
    "execution": {
     "iopub.execute_input": "2023-03-22T17:58:16.335416Z",
     "iopub.status.busy": "2023-03-22T17:58:16.334903Z",
     "iopub.status.idle": "2023-03-22T17:58:16.366807Z",
     "shell.execute_reply": "2023-03-22T17:58:16.365208Z"
    },
    "papermill": {
     "duration": 0.048646,
     "end_time": "2023-03-22T17:58:16.369450",
     "exception": false,
     "start_time": "2023-03-22T17:58:16.320804",
     "status": "completed"
    },
    "tags": []
   },
   "outputs": [],
   "source": [
    "x = df.loc[:, df.columns.drop(\"Class\")].values"
   ]
  },
  {
   "cell_type": "code",
   "execution_count": 14,
   "id": "056c6280",
   "metadata": {
    "execution": {
     "iopub.execute_input": "2023-03-22T17:58:16.392654Z",
     "iopub.status.busy": "2023-03-22T17:58:16.392162Z",
     "iopub.status.idle": "2023-03-22T17:58:16.403515Z",
     "shell.execute_reply": "2023-03-22T17:58:16.401440Z"
    },
    "papermill": {
     "duration": 0.027505,
     "end_time": "2023-03-22T17:58:16.407139",
     "exception": false,
     "start_time": "2023-03-22T17:58:16.379634",
     "status": "completed"
    },
    "tags": []
   },
   "outputs": [
    {
     "data": {
      "text/plain": [
       "array([[ 0.00000000e+00, -1.35980713e+00, -7.27811733e-02, ...,\n",
       "         1.33558377e-01, -2.10530535e-02,  1.49620000e+02],\n",
       "       [ 0.00000000e+00,  1.19185711e+00,  2.66150712e-01, ...,\n",
       "        -8.98309914e-03,  1.47241692e-02,  2.69000000e+00],\n",
       "       [ 1.00000000e+00, -1.35835406e+00, -1.34016307e+00, ...,\n",
       "        -5.53527940e-02, -5.97518406e-02,  3.78660000e+02],\n",
       "       ...,\n",
       "       [ 1.72788000e+05,  1.91956501e+00, -3.01253846e-01, ...,\n",
       "         4.45477214e-03, -2.65608286e-02,  6.78800000e+01],\n",
       "       [ 1.72788000e+05, -2.40440050e-01,  5.30482513e-01, ...,\n",
       "         1.08820735e-01,  1.04532821e-01,  1.00000000e+01],\n",
       "       [ 1.72792000e+05, -5.33412522e-01, -1.89733337e-01, ...,\n",
       "        -2.41530880e-03,  1.36489143e-02,  2.17000000e+02]])"
      ]
     },
     "execution_count": 14,
     "metadata": {},
     "output_type": "execute_result"
    }
   ],
   "source": [
    "x"
   ]
  },
  {
   "cell_type": "code",
   "execution_count": 15,
   "id": "099073ac",
   "metadata": {
    "execution": {
     "iopub.execute_input": "2023-03-22T17:58:16.431898Z",
     "iopub.status.busy": "2023-03-22T17:58:16.430718Z",
     "iopub.status.idle": "2023-03-22T17:58:16.437735Z",
     "shell.execute_reply": "2023-03-22T17:58:16.436111Z"
    },
    "papermill": {
     "duration": 0.023605,
     "end_time": "2023-03-22T17:58:16.441730",
     "exception": false,
     "start_time": "2023-03-22T17:58:16.418125",
     "status": "completed"
    },
    "tags": []
   },
   "outputs": [],
   "source": [
    "y = df.loc[:, \"Class\"].values"
   ]
  },
  {
   "cell_type": "code",
   "execution_count": 16,
   "id": "ee125ec2",
   "metadata": {
    "execution": {
     "iopub.execute_input": "2023-03-22T17:58:16.469095Z",
     "iopub.status.busy": "2023-03-22T17:58:16.467196Z",
     "iopub.status.idle": "2023-03-22T17:58:16.477888Z",
     "shell.execute_reply": "2023-03-22T17:58:16.475584Z"
    },
    "papermill": {
     "duration": 0.029445,
     "end_time": "2023-03-22T17:58:16.483932",
     "exception": false,
     "start_time": "2023-03-22T17:58:16.454487",
     "status": "completed"
    },
    "tags": []
   },
   "outputs": [
    {
     "data": {
      "text/plain": [
       "array([0, 0, 0, ..., 0, 0, 0])"
      ]
     },
     "execution_count": 16,
     "metadata": {},
     "output_type": "execute_result"
    }
   ],
   "source": [
    "y"
   ]
  },
  {
   "cell_type": "code",
   "execution_count": 17,
   "id": "9f523e18",
   "metadata": {
    "execution": {
     "iopub.execute_input": "2023-03-22T17:58:16.516438Z",
     "iopub.status.busy": "2023-03-22T17:58:16.515701Z",
     "iopub.status.idle": "2023-03-22T17:58:16.672068Z",
     "shell.execute_reply": "2023-03-22T17:58:16.670599Z"
    },
    "papermill": {
     "duration": 0.172418,
     "end_time": "2023-03-22T17:58:16.675432",
     "exception": false,
     "start_time": "2023-03-22T17:58:16.503014",
     "status": "completed"
    },
    "tags": []
   },
   "outputs": [],
   "source": [
    "x_train, x_test, y_train, y_test = train_test_split(x, y, test_size = 0.25, random_state = 0)"
   ]
  },
  {
   "cell_type": "markdown",
   "id": "b9e1d7c2",
   "metadata": {
    "papermill": {
     "duration": 0.010287,
     "end_time": "2023-03-22T17:58:16.696971",
     "exception": false,
     "start_time": "2023-03-22T17:58:16.686684",
     "status": "completed"
    },
    "tags": []
   },
   "source": [
    "# Logistic Regression Model"
   ]
  },
  {
   "cell_type": "code",
   "execution_count": 18,
   "id": "ff160690",
   "metadata": {
    "execution": {
     "iopub.execute_input": "2023-03-22T17:58:16.722442Z",
     "iopub.status.busy": "2023-03-22T17:58:16.721206Z",
     "iopub.status.idle": "2023-03-22T17:58:16.733667Z",
     "shell.execute_reply": "2023-03-22T17:58:16.732509Z"
    },
    "papermill": {
     "duration": 0.029173,
     "end_time": "2023-03-22T17:58:16.736689",
     "exception": false,
     "start_time": "2023-03-22T17:58:16.707516",
     "status": "completed"
    },
    "tags": []
   },
   "outputs": [],
   "source": [
    "def Logis_model(x_train, x_test, y_train, y_test):\n",
    "    from sklearn.linear_model import LogisticRegression\n",
    "    from sklearn.metrics import accuracy_score, confusion_matrix\n",
    "    from sklearn import metrics\n",
    "    Logistic_model = LogisticRegression()\n",
    "    Logistic_model.fit(x_train, y_train)\n",
    "    y_pred = Logistic_model.predict(x_test)\n",
    "\n",
    "\n",
    "    print(f\"Accuracy Score : {round(accuracy_score(y_test, y_pred),5)}\")\n",
    "\n",
    "    sns.set_style(\"white\")\n",
    "    conf = confusion_matrix(y_true = y_test, y_pred = y_pred, labels = [0, 1])\n",
    "    group_percentage = [f\"{round(value*100,5)}%\" for value in conf.flatten()/np.sum(conf)]\n",
    "    group_names = np.array([\"True Positive\", \"False Positive\", \"False Negative\", \"True Negative\"])\n",
    "    labels = [f\"{v1}\\n{v2}\\n{v3}\" for v1, v2, v3 in\n",
    "              zip(group_names,conf.flatten(),group_percentage)]\n",
    "    labels = np.asarray(labels).reshape(2, 2)\n",
    "    sns.heatmap(conf, annot = labels, fmt = \"\", cmap = \"Blues\")\n",
    "    plt.xlabel(\"Predicted Label\", size = 13)\n",
    "    plt.ylabel(\"Actual Label\", size = 13)\n",
    "    plt.title(\"Confusion Matrix (Logistic Regression Model)\", size = 15, color = \"blue\")"
   ]
  },
  {
   "cell_type": "code",
   "execution_count": 19,
   "id": "fefde813",
   "metadata": {
    "execution": {
     "iopub.execute_input": "2023-03-22T17:58:16.760301Z",
     "iopub.status.busy": "2023-03-22T17:58:16.759217Z",
     "iopub.status.idle": "2023-03-22T17:58:21.909934Z",
     "shell.execute_reply": "2023-03-22T17:58:21.908422Z"
    },
    "papermill": {
     "duration": 5.165721,
     "end_time": "2023-03-22T17:58:21.912764",
     "exception": false,
     "start_time": "2023-03-22T17:58:16.747043",
     "status": "completed"
    },
    "tags": []
   },
   "outputs": [
    {
     "name": "stdout",
     "output_type": "stream",
     "text": [
      "Accuracy Score : 0.99914\n"
     ]
    },
    {
     "data": {
      "image/png": "[encoded data removed]",
      "text/plain": [
       "<Figure size 640x480 with 2 Axes>"
      ]
     },
     "metadata": {},
     "output_type": "display_data"
    }
   ],
   "source": [
    "Logis_model(x_train, x_test, y_train, y_test)"
   ]
  },
  {
   "cell_type": "markdown",
   "id": "7697a30d",
   "metadata": {
    "papermill": {
     "duration": 0.010667,
     "end_time": "2023-03-22T17:58:21.934966",
     "exception": false,
     "start_time": "2023-03-22T17:58:21.924299",
     "status": "completed"
    },
    "tags": []
   },
   "source": [
    "# Random Forest Model"
   ]
  },
  {
   "cell_type": "code",
   "execution_count": 20,
   "id": "74e34818",
   "metadata": {
    "execution": {
     "iopub.execute_input": "2023-03-22T17:58:21.960346Z",
     "iopub.status.busy": "2023-03-22T17:58:21.959418Z",
     "iopub.status.idle": "2023-03-22T17:58:21.971038Z",
     "shell.execute_reply": "2023-03-22T17:58:21.969880Z"
    },
    "papermill": {
     "duration": 0.02811,
     "end_time": "2023-03-22T17:58:21.974178",
     "exception": false,
     "start_time": "2023-03-22T17:58:21.946068",
     "status": "completed"
    },
    "tags": []
   },
   "outputs": [],
   "source": [
    "def Random_Forest_model(x_train, x_test, y_train, y_test):\n",
    "    from sklearn.ensemble import RandomForestClassifier\n",
    "    from sklearn.metrics import confusion_matrix, accuracy_score\n",
    "    import seaborn as sns\n",
    "    import matplotlib.pyplot as plt\n",
    "\n",
    "    model = RandomForestClassifier(n_estimators = 20, criterion = \"entropy\", random_state = 0)\n",
    "    model.fit(x_train, y_train)\n",
    "    y_pred = model.predict(x_test)\n",
    "\n",
    "    print(f\"Accuracy Score : {round(accuracy_score(y_test, y_pred), 5)}\")\n",
    "\n",
    "    conf = confusion_matrix(y_test, y_pred)\n",
    "    percentage_groups = [f\"{round(value, 5)*100}%\" for value in (conf.flatten()/np.sum(conf))]\n",
    "    name_groups = np.array([\"True Positive\", \"False Positive\", \"False Negative\", \"True Negative\"])\n",
    "\n",
    "    labels = np.array([f\"{i}\\n{j}\\n{k}\" for i, j, k in zip(name_groups, conf.flatten(), percentage_groups)]).reshape(2, 2)\n",
    "    \n",
    "    # Plot confusion heatmap\n",
    "    \n",
    "    sns.set_style(\"white\")\n",
    "    sns.heatmap(conf, annot = labels, fmt = \"\", cmap = \"Blues\")\n",
    "    plt.xlabel(\"Predicted Label\", size = 13)\n",
    "    plt.ylabel(\"Actual Label\", size = 13)\n",
    "    plt.title(\"Confusion Matrix (Random Forest Model)\", size = 15, color = \"blue\")"
   ]
  },
  {
   "cell_type": "code",
   "execution_count": 21,
   "id": "90a8669a",
   "metadata": {
    "execution": {
     "iopub.execute_input": "2023-03-22T17:58:22.000364Z",
     "iopub.status.busy": "2023-03-22T17:58:21.999403Z",
     "iopub.status.idle": "2023-03-22T17:58:59.878196Z",
     "shell.execute_reply": "2023-03-22T17:58:59.876368Z"
    },
    "papermill": {
     "duration": 37.89669,
     "end_time": "2023-03-22T17:58:59.882521",
     "exception": false,
     "start_time": "2023-03-22T17:58:21.985831",
     "status": "completed"
    },
    "tags": []
   },
   "outputs": [
    {
     "name": "stdout",
     "output_type": "stream",
     "text": [
      "Accuracy Score : 0.99954\n"
     ]
    },
    {
     "data": {
      "image/png": "[encoded data removed]",
      "text/plain": [
       "<Figure size 640x480 with 2 Axes>"
      ]
     },
     "metadata": {},
     "output_type": "display_data"
    }
   ],
   "source": [
    "Random_Forest_model(x_train, x_test, y_train, y_test)"
   ]
  },
  {
   "cell_type": "markdown",
   "id": "28df9a39",
   "metadata": {
    "papermill": {
     "duration": 0.01503,
     "end_time": "2023-03-22T17:58:59.918238",
     "exception": false,
     "start_time": "2023-03-22T17:58:59.903208",
     "status": "completed"
    },
    "tags": []
   },
   "source": [
    "# K-nearest Neighbors Model"
   ]
  },
  {
   "cell_type": "code",
   "execution_count": 22,
   "id": "270efe72",
   "metadata": {
    "execution": {
     "iopub.execute_input": "2023-03-22T17:58:59.949526Z",
     "iopub.status.busy": "2023-03-22T17:58:59.948373Z",
     "iopub.status.idle": "2023-03-22T17:58:59.960833Z",
     "shell.execute_reply": "2023-03-22T17:58:59.959606Z"
    },
    "papermill": {
     "duration": 0.031714,
     "end_time": "2023-03-22T17:58:59.964416",
     "exception": false,
     "start_time": "2023-03-22T17:58:59.932702",
     "status": "completed"
    },
    "tags": []
   },
   "outputs": [],
   "source": [
    "def KNN_model(x_train, x_test, y_train, y_test):\n",
    "    from sklearn.neighbors import KNeighborsClassifier\n",
    "    from sklearn.metrics import confusion_matrix, accuracy_score\n",
    "    import seaborn as sns\n",
    "    import matplotlib.pyplot as plt\n",
    "    from sklearn.preprocessing import StandardScaler\n",
    "    \n",
    "    sc = StandardScaler()\n",
    "    sc.fit_transform(x_train)\n",
    "    sc.transform(x_test)\n",
    "    \n",
    "    model = KNeighborsClassifier(n_neighbors = 7)\n",
    "    model.fit(x_train, y_train)\n",
    "    y_pred = model.predict(x_test)\n",
    "    print(f\"Accuracy Score : {round(accuracy_score(y_test, y_pred), 5)}\")\n",
    "    \n",
    "    #plot heat map (confusion matrix)\n",
    "    conf = confusion_matrix(y_test, y_pred)\n",
    "    percentage_group = [f\"{round(value * 100, 5)} %\" for value in conf.flatten()/np.sum(conf)]\n",
    "    name_group = np.array([\"True Positive\", \"False Positive\", \"False Negative\", \"True Negative\"])\n",
    "    \n",
    "    labels = np.asarray([f\"{i}\\n{j}\\n{k}\" for i,j,k in zip(name_group, conf.flatten(), percentage_group)]).reshape(2, 2)\n",
    "    sns.heatmap(conf, annot = labels, fmt = \"\", cmap = \"Blues\")\n",
    "    plt.xlabel(\"Predicted Value\", size = 14)\n",
    "    plt.ylabel(\"Actual Value\", size = 14)\n",
    "    plt.title(\"Confusion Matrix (K-nearest Neighbors Model)\", size = 15, color = \"blue\")"
   ]
  },
  {
   "cell_type": "code",
   "execution_count": 23,
   "id": "ab471a5b",
   "metadata": {
    "execution": {
     "iopub.execute_input": "2023-03-22T17:58:59.995310Z",
     "iopub.status.busy": "2023-03-22T17:58:59.994326Z",
     "iopub.status.idle": "2023-03-22T18:04:31.308558Z",
     "shell.execute_reply": "2023-03-22T18:04:31.307152Z"
    },
    "papermill": {
     "duration": 331.333484,
     "end_time": "2023-03-22T18:04:31.311544",
     "exception": false,
     "start_time": "2023-03-22T17:58:59.978060",
     "status": "completed"
    },
    "tags": []
   },
   "outputs": [
    {
     "name": "stdout",
     "output_type": "stream",
     "text": [
      "Accuracy Score : 0.99837\n"
     ]
    },
    {
     "data": {
      "image/png": "[encoded data removed]",
      "text/plain": [
       "<Figure size 640x480 with 2 Axes>"
      ]
     },
     "metadata": {},
     "output_type": "display_data"
    }
   ],
   "source": [
    "KNN_model(x_train, x_test, y_train, y_test)"
   ]
  },
  {
   "cell_type": "markdown",
   "id": "1c3f38d9",
   "metadata": {
    "papermill": {
     "duration": 0.013179,
     "end_time": "2023-03-22T18:04:31.337788",
     "exception": false,
     "start_time": "2023-03-22T18:04:31.324609",
     "status": "completed"
    },
    "tags": []
   },
   "source": [
    "# ANN Model"
   ]
  },
  {
   "cell_type": "code",
   "execution_count": 24,
   "id": "1f885248",
   "metadata": {
    "execution": {
     "iopub.execute_input": "2023-03-22T18:04:31.369080Z",
     "iopub.status.busy": "2023-03-22T18:04:31.368537Z",
     "iopub.status.idle": "2023-03-22T18:04:31.383824Z",
     "shell.execute_reply": "2023-03-22T18:04:31.382386Z"
    },
    "papermill": {
     "duration": 0.03401,
     "end_time": "2023-03-22T18:04:31.386737",
     "exception": false,
     "start_time": "2023-03-22T18:04:31.352727",
     "status": "completed"
    },
    "tags": []
   },
   "outputs": [],
   "source": [
    "def ANN_model(x_train, x_test, y_train, y_test):\n",
    "    import tensorflow as tf\n",
    "    from tensorflow import keras\n",
    "    from sklearn.metrics import confusion_matrix, accuracy_score\n",
    "    import seaborn as sns\n",
    "    import matplotlib.pyplot as plt\n",
    "    from sklearn.preprocessing import StandardScaler\n",
    "\n",
    "    sc = StandardScaler()\n",
    "    sc.fit_transform(x_train)\n",
    "    sc.transform(x_test)\n",
    "\n",
    "    model = tf.keras.models.Sequential()\n",
    "    # Add First Hidden Layer (input layer)\n",
    "    model.add(tf.keras.layers.Dense(units = 30, activation = \"relu\"))\n",
    "    # Add Second Hidden Layer \n",
    "    model.add(tf.keras.layers.Dense(units = 7, activation = \"relu\"))\n",
    "    # Add Third Hidden Layer (output layer)\n",
    "    model.add(tf.keras.layers.Dense(units = 1, activation = \"sigmoid\"))\n",
    "\n",
    "\n",
    "    #compile Model\n",
    "    model.compile(optimizer = keras.optimizers.Adam(1e-4), loss = 'binary_crossentropy', metrics = ['accuracy'])\n",
    "\n",
    "    model.fit(x_train, y_train, batch_size = 32, epochs = 10)\n",
    "    y_pred = model.predict(x_test)\n",
    "\n",
    "    y_pred = y_pred.flatten()\n",
    "    for i, j in enumerate(y_pred):\n",
    "        if j > 0.5:\n",
    "            y_pred[i] = 1\n",
    "        else:\n",
    "            y_pred[i] = 0\n",
    "\n",
    "    print(f\"Accuracy score : {round(accuracy_score(y_test, y_pred), 5)}\")\n",
    "    conf = confusion_matrix(y_test, y_pred)\n",
    "    name_group = [\"True Positive\", \"False Positive\", \"False Negative\", \"True Negative\"]\n",
    "    percentage_group = [f\"{round(value * 100, 5)} %\" for value in conf.flatten()/np.sum(conf)]\n",
    "\n",
    "    labels = np.asarray([f\"{name}\\n{count}\\n{percentage}\" for name, count, percentage in zip(name_group, conf.flatten(), percentage_group)]).reshape(2, 2)\n",
    "    sns.heatmap(conf, annot = labels, fmt = \"\", cmap = \"Blues\")\n",
    "    plt.xlabel(\"Predicted Value\", size = 14)\n",
    "    plt.ylabel(\"Actual Value\", size = 14)\n",
    "    plt.title(\"Confusion Matrix (ANN Model)\", size = 15, color = \"blue\")"
   ]
  },
  {
   "cell_type": "code",
   "execution_count": 25,
   "id": "23e71aa1",
   "metadata": {
    "execution": {
     "iopub.execute_input": "2023-03-22T18:04:31.415163Z",
     "iopub.status.busy": "2023-03-22T18:04:31.414389Z",
     "iopub.status.idle": "2023-03-22T18:07:04.561691Z",
     "shell.execute_reply": "2023-03-22T18:07:04.560189Z"
    },
    "papermill": {
     "duration": 153.164984,
     "end_time": "2023-03-22T18:07:04.564706",
     "exception": false,
     "start_time": "2023-03-22T18:04:31.399722",
     "status": "completed"
    },
    "tags": []
   },
   "outputs": [
    {
     "name": "stdout",
     "output_type": "stream",
     "text": [
      "Epoch 1/10\n",
      "6676/6676 [==============================] - 15s 2ms/step - loss: 358.9807 - accuracy: 0.9205\n",
      "Epoch 2/10\n",
      "6676/6676 [==============================] - 14s 2ms/step - loss: 0.0323 - accuracy: 0.9982\n",
      "Epoch 3/10\n",
      "6676/6676 [==============================] - 14s 2ms/step - loss: 0.0278 - accuracy: 0.9983\n",
      "Epoch 4/10\n",
      "6676/6676 [==============================] - 13s 2ms/step - loss: 0.0236 - accuracy: 0.9983\n",
      "Epoch 5/10\n",
      "6676/6676 [==============================] - 14s 2ms/step - loss: 0.0209 - accuracy: 0.9983\n",
      "Epoch 6/10\n",
      "6676/6676 [==============================] - 14s 2ms/step - loss: 0.0187 - accuracy: 0.9983\n",
      "Epoch 7/10\n",
      "6676/6676 [==============================] - 14s 2ms/step - loss: 0.0173 - accuracy: 0.9983\n",
      "Epoch 8/10\n",
      "6676/6676 [==============================] - 13s 2ms/step - loss: 0.0164 - accuracy: 0.9983\n",
      "Epoch 9/10\n",
      "6676/6676 [==============================] - 14s 2ms/step - loss: 0.0154 - accuracy: 0.9983\n",
      "Epoch 10/10\n",
      "6676/6676 [==============================] - 13s 2ms/step - loss: 0.0144 - accuracy: 0.9983\n",
      "2226/2226 [==============================] - 3s 1ms/step\n",
      "Accuracy score : 0.99831\n"
     ]
    },
    {
     "data": {
      "image/png": "[encoded data removed]",
      "text/plain": [
       "<Figure size 640x480 with 2 Axes>"
      ]
     },
     "metadata": {},
     "output_type": "display_data"
    }
   ],
   "source": [
    "ANN_model(x_train, x_test, y_train, y_test)"
   ]
  }
 ],
 "metadata": {
  "kernelspec": {
   "display_name": "Python 3",
   "language": "python",
   "name": "python3"
  },
  "language_info": {
   "codemirror_mode": {
    "name": "ipython",
    "version": 3
   },
   "file_extension": ".py",
   "mimetype": "text/x-python",
   "name": "python",
   "nbconvert_exporter": "python",
   "pygments_lexer": "ipython3",
   "version": "3.7.12"
  },
  "papermill": {
   "default_parameters": {},
   "duration": 552.427641,
   "end_time": "2023-03-22T18:07:08.471615",
   "environment_variables": {},
   "exception": null,
   "input_path": "__notebook__.ipynb",
   "output_path": "__notebook__.ipynb",
   "parameters": {},
   "start_time": "2023-03-22T17:57:56.043974",
   "version": "2.4.0"
  }
 },
 "nbformat": 4,
 "nbformat_minor": 5
}
